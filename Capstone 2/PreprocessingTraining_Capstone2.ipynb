{
 "cells": [
  {
   "cell_type": "markdown",
   "metadata": {},
   "source": [
    "# Capstone 2: Obesity in America\n",
    "## Preprocessing and Training Data Development"
   ]
  },
  {
   "cell_type": "markdown",
   "metadata": {},
   "source": [
    "The goal of this step is to create a cleaned development dataset to be used for the modeling step. "
   ]
  },
  {
   "cell_type": "code",
   "execution_count": 1,
   "metadata": {},
   "outputs": [],
   "source": [
    "import pandas as pd\n",
    "import seaborn as sns\n",
    "import matplotlib.pyplot as plt\n",
    "import sklearn\n",
    "from sklearn.model_selection import train_test_split\n",
    "from sklearn.metrics import mean_absolute_error, r2_score\n",
    "from sklearn import linear_model, preprocessing\n",
    "from sklearn.preprocessing import MinMaxScaler"
   ]
  },
  {
   "cell_type": "code",
   "execution_count": 7,
   "metadata": {},
   "outputs": [
    {
     "name": "stdout",
     "output_type": "stream",
     "text": [
      "/Users/erinquense/springboard/Capstone2Project/data\n"
     ]
    }
   ],
   "source": [
    "cd data"
   ]
  },
  {
   "cell_type": "code",
   "execution_count": 8,
   "metadata": {},
   "outputs": [],
   "source": [
    "df = pd.read_csv('df_for_preprocess.csv', index_col=0)"
   ]
  },
  {
   "cell_type": "code",
   "execution_count": 9,
   "metadata": {},
   "outputs": [
    {
     "data": {
      "text/html": [
       "<div>\n",
       "<style scoped>\n",
       "    .dataframe tbody tr th:only-of-type {\n",
       "        vertical-align: middle;\n",
       "    }\n",
       "\n",
       "    .dataframe tbody tr th {\n",
       "        vertical-align: top;\n",
       "    }\n",
       "\n",
       "    .dataframe thead th {\n",
       "        text-align: right;\n",
       "    }\n",
       "</style>\n",
       "<table border=\"1\" class=\"dataframe\">\n",
       "  <thead>\n",
       "    <tr style=\"text-align: right;\">\n",
       "      <th></th>\n",
       "      <th>Year</th>\n",
       "      <th>Location</th>\n",
       "      <th>% who have obesity</th>\n",
       "      <th>Total</th>\n",
       "      <th>18 - 24</th>\n",
       "      <th>25 - 34</th>\n",
       "      <th>35 - 44</th>\n",
       "      <th>45 - 54</th>\n",
       "      <th>55 - 64</th>\n",
       "      <th>65 or older</th>\n",
       "      <th>...</th>\n",
       "      <th>Non-Hispanic White</th>\n",
       "      <th>Other</th>\n",
       "      <th>B_% who are overweight</th>\n",
       "      <th>B_% who are moderately active</th>\n",
       "      <th>B_% who are moderately active and strength train</th>\n",
       "      <th>B_% who are vigorously after</th>\n",
       "      <th>B_% who strength train</th>\n",
       "      <th>B_% who no physical activity</th>\n",
       "      <th>B_% less than 1 vegetable/day</th>\n",
       "      <th>B_% less than 1 fruit/day</th>\n",
       "    </tr>\n",
       "  </thead>\n",
       "  <tbody>\n",
       "    <tr>\n",
       "      <th>0</th>\n",
       "      <td>2011-01-01</td>\n",
       "      <td>Alaska</td>\n",
       "      <td>19.8</td>\n",
       "      <td>0</td>\n",
       "      <td>1</td>\n",
       "      <td>0</td>\n",
       "      <td>0</td>\n",
       "      <td>0</td>\n",
       "      <td>0</td>\n",
       "      <td>0</td>\n",
       "      <td>...</td>\n",
       "      <td>0</td>\n",
       "      <td>0</td>\n",
       "      <td>Low</td>\n",
       "      <td>Very High</td>\n",
       "      <td>Very High</td>\n",
       "      <td>High</td>\n",
       "      <td>Very High</td>\n",
       "      <td>Low</td>\n",
       "      <td>Very High</td>\n",
       "      <td>Very High</td>\n",
       "    </tr>\n",
       "    <tr>\n",
       "      <th>1</th>\n",
       "      <td>2011-01-01</td>\n",
       "      <td>Alaska</td>\n",
       "      <td>23.5</td>\n",
       "      <td>0</td>\n",
       "      <td>0</td>\n",
       "      <td>1</td>\n",
       "      <td>0</td>\n",
       "      <td>0</td>\n",
       "      <td>0</td>\n",
       "      <td>0</td>\n",
       "      <td>...</td>\n",
       "      <td>0</td>\n",
       "      <td>0</td>\n",
       "      <td>Very High</td>\n",
       "      <td>Very High</td>\n",
       "      <td>Very High</td>\n",
       "      <td>Very High</td>\n",
       "      <td>Very High</td>\n",
       "      <td>Low</td>\n",
       "      <td>Low</td>\n",
       "      <td>High</td>\n",
       "    </tr>\n",
       "    <tr>\n",
       "      <th>2</th>\n",
       "      <td>2011-01-01</td>\n",
       "      <td>Alaska</td>\n",
       "      <td>29.5</td>\n",
       "      <td>0</td>\n",
       "      <td>0</td>\n",
       "      <td>0</td>\n",
       "      <td>1</td>\n",
       "      <td>0</td>\n",
       "      <td>0</td>\n",
       "      <td>0</td>\n",
       "      <td>...</td>\n",
       "      <td>0</td>\n",
       "      <td>0</td>\n",
       "      <td>Very High</td>\n",
       "      <td>High</td>\n",
       "      <td>High</td>\n",
       "      <td>High</td>\n",
       "      <td>High</td>\n",
       "      <td>Medium</td>\n",
       "      <td>Low</td>\n",
       "      <td>High</td>\n",
       "    </tr>\n",
       "    <tr>\n",
       "      <th>3</th>\n",
       "      <td>2011-01-01</td>\n",
       "      <td>Alaska</td>\n",
       "      <td>29.2</td>\n",
       "      <td>0</td>\n",
       "      <td>0</td>\n",
       "      <td>0</td>\n",
       "      <td>0</td>\n",
       "      <td>1</td>\n",
       "      <td>0</td>\n",
       "      <td>0</td>\n",
       "      <td>...</td>\n",
       "      <td>0</td>\n",
       "      <td>0</td>\n",
       "      <td>Very High</td>\n",
       "      <td>Very High</td>\n",
       "      <td>Very High</td>\n",
       "      <td>Very High</td>\n",
       "      <td>High</td>\n",
       "      <td>Medium</td>\n",
       "      <td>Low</td>\n",
       "      <td>Medium</td>\n",
       "    </tr>\n",
       "    <tr>\n",
       "      <th>4</th>\n",
       "      <td>2011-01-01</td>\n",
       "      <td>Alaska</td>\n",
       "      <td>33.4</td>\n",
       "      <td>0</td>\n",
       "      <td>0</td>\n",
       "      <td>0</td>\n",
       "      <td>0</td>\n",
       "      <td>0</td>\n",
       "      <td>1</td>\n",
       "      <td>0</td>\n",
       "      <td>...</td>\n",
       "      <td>0</td>\n",
       "      <td>0</td>\n",
       "      <td>Very High</td>\n",
       "      <td>Very High</td>\n",
       "      <td>High</td>\n",
       "      <td>Very High</td>\n",
       "      <td>Medium</td>\n",
       "      <td>High</td>\n",
       "      <td>Low</td>\n",
       "      <td>Low</td>\n",
       "    </tr>\n",
       "  </tbody>\n",
       "</table>\n",
       "<p>5 rows × 39 columns</p>\n",
       "</div>"
      ],
      "text/plain": [
       "         Year Location  % who have obesity Total  18 - 24  25 - 34  35 - 44  \\\n",
       "0  2011-01-01   Alaska                19.8     0        1        0        0   \n",
       "1  2011-01-01   Alaska                23.5     0        0        1        0   \n",
       "2  2011-01-01   Alaska                29.5     0        0        0        1   \n",
       "3  2011-01-01   Alaska                29.2     0        0        0        0   \n",
       "4  2011-01-01   Alaska                33.4     0        0        0        0   \n",
       "\n",
       "   45 - 54  55 - 64  65 or older  ...  Non-Hispanic White  Other  \\\n",
       "0        0        0            0  ...                   0      0   \n",
       "1        0        0            0  ...                   0      0   \n",
       "2        0        0            0  ...                   0      0   \n",
       "3        1        0            0  ...                   0      0   \n",
       "4        0        1            0  ...                   0      0   \n",
       "\n",
       "   B_% who are overweight  B_% who are moderately active  \\\n",
       "0                     Low                      Very High   \n",
       "1               Very High                      Very High   \n",
       "2               Very High                           High   \n",
       "3               Very High                      Very High   \n",
       "4               Very High                      Very High   \n",
       "\n",
       "   B_% who are moderately active and strength train  \\\n",
       "0                                         Very High   \n",
       "1                                         Very High   \n",
       "2                                              High   \n",
       "3                                         Very High   \n",
       "4                                              High   \n",
       "\n",
       "   B_% who are vigorously after  B_% who strength train  \\\n",
       "0                          High               Very High   \n",
       "1                     Very High               Very High   \n",
       "2                          High                    High   \n",
       "3                     Very High                    High   \n",
       "4                     Very High                  Medium   \n",
       "\n",
       "   B_% who no physical activity  B_% less than 1 vegetable/day  \\\n",
       "0                           Low                      Very High   \n",
       "1                           Low                            Low   \n",
       "2                        Medium                            Low   \n",
       "3                        Medium                            Low   \n",
       "4                          High                            Low   \n",
       "\n",
       "   B_% less than 1 fruit/day  \n",
       "0                  Very High  \n",
       "1                       High  \n",
       "2                       High  \n",
       "3                     Medium  \n",
       "4                        Low  \n",
       "\n",
       "[5 rows x 39 columns]"
      ]
     },
     "execution_count": 9,
     "metadata": {},
     "output_type": "execute_result"
    }
   ],
   "source": [
    "df.head()"
   ]
  },
  {
   "cell_type": "code",
   "execution_count": 10,
   "metadata": {},
   "outputs": [],
   "source": [
    "df = df.drop(['Year'], axis=1)"
   ]
  },
  {
   "cell_type": "markdown",
   "metadata": {},
   "source": [
    "Convert categorical features to numerical using dummy variables."
   ]
  },
  {
   "cell_type": "code",
   "execution_count": 11,
   "metadata": {},
   "outputs": [],
   "source": [
    "dummy = pd.get_dummies(df['Location'])\n",
    "df = pd.concat([df, dummy], axis = 1)\n",
    "df = df.drop(['Location'], axis=1)"
   ]
  },
  {
   "cell_type": "code",
   "execution_count": 12,
   "metadata": {},
   "outputs": [],
   "source": [
    "dummy = pd.get_dummies(df['B_% who are overweight'], prefix='overweight_')\n",
    "df = pd.concat([df, dummy], axis = 1)\n",
    "df = df.drop(['B_% who are overweight'], axis=1)"
   ]
  },
  {
   "cell_type": "code",
   "execution_count": 13,
   "metadata": {},
   "outputs": [],
   "source": [
    "dummy = pd.get_dummies(df['B_% who are moderately active'], prefix='mod_active_')\n",
    "df = pd.concat([df, dummy], axis = 1)\n",
    "df = df.drop(['B_% who are moderately active'], axis=1)"
   ]
  },
  {
   "cell_type": "code",
   "execution_count": 14,
   "metadata": {},
   "outputs": [],
   "source": [
    "dummy = pd.get_dummies(df['B_% who are moderately active and strength train'], prefix='mod_and_strength_')\n",
    "df = pd.concat([df, dummy], axis = 1)\n",
    "df = df.drop(['B_% who are moderately active and strength train'], axis=1)"
   ]
  },
  {
   "cell_type": "code",
   "execution_count": 15,
   "metadata": {},
   "outputs": [],
   "source": [
    "dummy = pd.get_dummies(df['B_% who are vigorously after'], prefix='vigor_active_')\n",
    "df = pd.concat([df, dummy], axis = 1)\n",
    "df = df.drop(['B_% who are vigorously after'], axis=1)"
   ]
  },
  {
   "cell_type": "code",
   "execution_count": 16,
   "metadata": {},
   "outputs": [],
   "source": [
    "dummy = pd.get_dummies(df['B_% who strength train'], prefix='strength_')\n",
    "df = pd.concat([df, dummy], axis = 1)\n",
    "df = df.drop(['B_% who strength train'], axis=1)"
   ]
  },
  {
   "cell_type": "code",
   "execution_count": 17,
   "metadata": {},
   "outputs": [],
   "source": [
    "dummy = pd.get_dummies(df['B_% who no physical activity'], prefix='no_PA_')\n",
    "df = pd.concat([df, dummy], axis = 1)\n",
    "df = df.drop(['B_% who no physical activity'], axis=1)"
   ]
  },
  {
   "cell_type": "code",
   "execution_count": 18,
   "metadata": {},
   "outputs": [],
   "source": [
    "dummy = pd.get_dummies(df['B_% less than 1 vegetable/day'], prefix='vege_')\n",
    "df = pd.concat([df, dummy], axis = 1)\n",
    "df = df.drop(['B_% less than 1 vegetable/day'], axis=1)"
   ]
  },
  {
   "cell_type": "code",
   "execution_count": 19,
   "metadata": {},
   "outputs": [],
   "source": [
    "dummy = pd.get_dummies(df['B_% less than 1 fruit/day'], prefix='fruit_')\n",
    "df = pd.concat([df, dummy], axis = 1)\n",
    "df = df.drop(['B_% less than 1 fruit/day'], axis=1)"
   ]
  },
  {
   "cell_type": "code",
   "execution_count": 20,
   "metadata": {},
   "outputs": [],
   "source": [
    "df = df.drop(['Total'], axis=1)"
   ]
  },
  {
   "cell_type": "code",
   "execution_count": 21,
   "metadata": {},
   "outputs": [
    {
     "data": {
      "text/html": [
       "<div>\n",
       "<style scoped>\n",
       "    .dataframe tbody tr th:only-of-type {\n",
       "        vertical-align: middle;\n",
       "    }\n",
       "\n",
       "    .dataframe tbody tr th {\n",
       "        vertical-align: top;\n",
       "    }\n",
       "\n",
       "    .dataframe thead th {\n",
       "        text-align: right;\n",
       "    }\n",
       "</style>\n",
       "<table border=\"1\" class=\"dataframe\">\n",
       "  <thead>\n",
       "    <tr style=\"text-align: right;\">\n",
       "      <th></th>\n",
       "      <th>% who have obesity</th>\n",
       "      <th>18 - 24</th>\n",
       "      <th>25 - 34</th>\n",
       "      <th>35 - 44</th>\n",
       "      <th>45 - 54</th>\n",
       "      <th>55 - 64</th>\n",
       "      <th>65 or older</th>\n",
       "      <th>College graduate</th>\n",
       "      <th>High school graduate</th>\n",
       "      <th>Less than high school</th>\n",
       "      <th>...</th>\n",
       "      <th>vege__Medium</th>\n",
       "      <th>vege__No Data Reported</th>\n",
       "      <th>vege__Very High</th>\n",
       "      <th>vege__Very Low</th>\n",
       "      <th>fruit__High</th>\n",
       "      <th>fruit__Low</th>\n",
       "      <th>fruit__Medium</th>\n",
       "      <th>fruit__No Data Reported</th>\n",
       "      <th>fruit__Very High</th>\n",
       "      <th>fruit__Very Low</th>\n",
       "    </tr>\n",
       "  </thead>\n",
       "  <tbody>\n",
       "    <tr>\n",
       "      <th>0</th>\n",
       "      <td>19.8</td>\n",
       "      <td>1</td>\n",
       "      <td>0</td>\n",
       "      <td>0</td>\n",
       "      <td>0</td>\n",
       "      <td>0</td>\n",
       "      <td>0</td>\n",
       "      <td>0</td>\n",
       "      <td>0</td>\n",
       "      <td>0</td>\n",
       "      <td>...</td>\n",
       "      <td>0</td>\n",
       "      <td>0</td>\n",
       "      <td>1</td>\n",
       "      <td>0</td>\n",
       "      <td>0</td>\n",
       "      <td>0</td>\n",
       "      <td>0</td>\n",
       "      <td>0</td>\n",
       "      <td>1</td>\n",
       "      <td>0</td>\n",
       "    </tr>\n",
       "    <tr>\n",
       "      <th>1</th>\n",
       "      <td>23.5</td>\n",
       "      <td>0</td>\n",
       "      <td>1</td>\n",
       "      <td>0</td>\n",
       "      <td>0</td>\n",
       "      <td>0</td>\n",
       "      <td>0</td>\n",
       "      <td>0</td>\n",
       "      <td>0</td>\n",
       "      <td>0</td>\n",
       "      <td>...</td>\n",
       "      <td>0</td>\n",
       "      <td>0</td>\n",
       "      <td>0</td>\n",
       "      <td>0</td>\n",
       "      <td>1</td>\n",
       "      <td>0</td>\n",
       "      <td>0</td>\n",
       "      <td>0</td>\n",
       "      <td>0</td>\n",
       "      <td>0</td>\n",
       "    </tr>\n",
       "    <tr>\n",
       "      <th>2</th>\n",
       "      <td>29.5</td>\n",
       "      <td>0</td>\n",
       "      <td>0</td>\n",
       "      <td>1</td>\n",
       "      <td>0</td>\n",
       "      <td>0</td>\n",
       "      <td>0</td>\n",
       "      <td>0</td>\n",
       "      <td>0</td>\n",
       "      <td>0</td>\n",
       "      <td>...</td>\n",
       "      <td>0</td>\n",
       "      <td>0</td>\n",
       "      <td>0</td>\n",
       "      <td>0</td>\n",
       "      <td>1</td>\n",
       "      <td>0</td>\n",
       "      <td>0</td>\n",
       "      <td>0</td>\n",
       "      <td>0</td>\n",
       "      <td>0</td>\n",
       "    </tr>\n",
       "    <tr>\n",
       "      <th>3</th>\n",
       "      <td>29.2</td>\n",
       "      <td>0</td>\n",
       "      <td>0</td>\n",
       "      <td>0</td>\n",
       "      <td>1</td>\n",
       "      <td>0</td>\n",
       "      <td>0</td>\n",
       "      <td>0</td>\n",
       "      <td>0</td>\n",
       "      <td>0</td>\n",
       "      <td>...</td>\n",
       "      <td>0</td>\n",
       "      <td>0</td>\n",
       "      <td>0</td>\n",
       "      <td>0</td>\n",
       "      <td>0</td>\n",
       "      <td>0</td>\n",
       "      <td>1</td>\n",
       "      <td>0</td>\n",
       "      <td>0</td>\n",
       "      <td>0</td>\n",
       "    </tr>\n",
       "    <tr>\n",
       "      <th>4</th>\n",
       "      <td>33.4</td>\n",
       "      <td>0</td>\n",
       "      <td>0</td>\n",
       "      <td>0</td>\n",
       "      <td>0</td>\n",
       "      <td>1</td>\n",
       "      <td>0</td>\n",
       "      <td>0</td>\n",
       "      <td>0</td>\n",
       "      <td>0</td>\n",
       "      <td>...</td>\n",
       "      <td>0</td>\n",
       "      <td>0</td>\n",
       "      <td>0</td>\n",
       "      <td>0</td>\n",
       "      <td>0</td>\n",
       "      <td>1</td>\n",
       "      <td>0</td>\n",
       "      <td>0</td>\n",
       "      <td>0</td>\n",
       "      <td>0</td>\n",
       "    </tr>\n",
       "  </tbody>\n",
       "</table>\n",
       "<p>5 rows × 131 columns</p>\n",
       "</div>"
      ],
      "text/plain": [
       "   % who have obesity  18 - 24  25 - 34  35 - 44  45 - 54  55 - 64  \\\n",
       "0                19.8        1        0        0        0        0   \n",
       "1                23.5        0        1        0        0        0   \n",
       "2                29.5        0        0        1        0        0   \n",
       "3                29.2        0        0        0        1        0   \n",
       "4                33.4        0        0        0        0        1   \n",
       "\n",
       "   65 or older  College graduate  High school graduate  Less than high school  \\\n",
       "0            0                 0                     0                      0   \n",
       "1            0                 0                     0                      0   \n",
       "2            0                 0                     0                      0   \n",
       "3            0                 0                     0                      0   \n",
       "4            0                 0                     0                      0   \n",
       "\n",
       "   ...  vege__Medium  vege__No Data Reported  vege__Very High  vege__Very Low  \\\n",
       "0  ...             0                       0                1               0   \n",
       "1  ...             0                       0                0               0   \n",
       "2  ...             0                       0                0               0   \n",
       "3  ...             0                       0                0               0   \n",
       "4  ...             0                       0                0               0   \n",
       "\n",
       "   fruit__High  fruit__Low  fruit__Medium  fruit__No Data Reported  \\\n",
       "0            0           0              0                        0   \n",
       "1            1           0              0                        0   \n",
       "2            1           0              0                        0   \n",
       "3            0           0              1                        0   \n",
       "4            0           1              0                        0   \n",
       "\n",
       "   fruit__Very High  fruit__Very Low  \n",
       "0                 1                0  \n",
       "1                 0                0  \n",
       "2                 0                0  \n",
       "3                 0                0  \n",
       "4                 0                0  \n",
       "\n",
       "[5 rows x 131 columns]"
      ]
     },
     "execution_count": 21,
     "metadata": {},
     "output_type": "execute_result"
    }
   ],
   "source": [
    "df.head()"
   ]
  },
  {
   "cell_type": "code",
   "execution_count": 22,
   "metadata": {},
   "outputs": [],
   "source": [
    "df.to_csv('df_for_model_fitting.csv')"
   ]
  },
  {
   "cell_type": "markdown",
   "metadata": {},
   "source": [
    "## Linear Regression\n",
    "### Model 1"
   ]
  },
  {
   "cell_type": "code",
   "execution_count": 56,
   "metadata": {},
   "outputs": [],
   "source": [
    "X = df.drop(['% who have obesity'], axis=1).values\n",
    "y = df['% who have obesity'].values\n",
    "\n",
    "X_train, X_test, y_train, y_test = train_test_split(X, y, test_size=0.25, random_state=123)"
   ]
  },
  {
   "cell_type": "code",
   "execution_count": 59,
   "metadata": {},
   "outputs": [
    {
     "name": "stdout",
     "output_type": "stream",
     "text": [
      "X_train:  <class 'numpy.ndarray'> (6114, 130)\n",
      "y_train:  <class 'numpy.ndarray'> (6114,)\n",
      "X_test:  <class 'numpy.ndarray'> (2039, 130)\n",
      "y_test:  <class 'numpy.ndarray'> (2039,)\n"
     ]
    }
   ],
   "source": [
    "print(\"X_train: \", type(X_train), X_train.shape)\n",
    "print(\"y_train: \", type(y_train), y_train.shape)\n",
    "print(\"X_test: \", type(X_test), X_test.shape)\n",
    "print(\"y_test: \", type(y_test), y_test.shape)"
   ]
  },
  {
   "cell_type": "code",
   "execution_count": 62,
   "metadata": {},
   "outputs": [],
   "source": [
    "y_train = y_train.reshape(-1, 1)\n",
    "y_test = y_test.reshape(-1, 1)"
   ]
  },
  {
   "cell_type": "markdown",
   "metadata": {},
   "source": [
    "Standardize the value of numeric features- in this case, % who have obesity is the only numeric feature that needs to be scaled.  I will use the MinMax Scaler to scale it between 0 and 1. "
   ]
  },
  {
   "cell_type": "code",
   "execution_count": 63,
   "metadata": {},
   "outputs": [],
   "source": [
    "MM_scaler = MinMaxScaler()\n",
    "MM_scaler.fit(y_test)\n",
    "y_test = MM_scaler.transform(y_test)"
   ]
  },
  {
   "cell_type": "code",
   "execution_count": 64,
   "metadata": {},
   "outputs": [],
   "source": [
    "MM_scaler.fit(y_train)\n",
    "y_train = MM_scaler.transform(y_train)"
   ]
  },
  {
   "cell_type": "code",
   "execution_count": 66,
   "metadata": {},
   "outputs": [
    {
     "name": "stdout",
     "output_type": "stream",
     "text": [
      "\n",
      "\n",
      "X_train: [[0 0 0 ... 0 1 0]\n",
      " [0 1 0 ... 1 0 0]\n",
      " [0 0 0 ... 0 0 0]\n",
      " ...\n",
      " [0 0 0 ... 0 0 0]\n",
      " [0 0 0 ... 0 0 0]\n",
      " [0 0 0 ... 1 0 0]] <class 'numpy.ndarray'> (6114, 130) 6114\n",
      "\n",
      "\n",
      "X_test [[0 0 0 ... 1 0 0]\n",
      " [0 0 1 ... 1 0 0]\n",
      " [0 0 0 ... 0 0 0]\n",
      " ...\n",
      " [0 0 0 ... 0 0 0]\n",
      " [0 0 0 ... 0 0 0]\n",
      " [0 0 0 ... 1 0 0]] <class 'numpy.ndarray'> (2039, 130) 2039\n",
      "\n",
      "\n",
      "y_train [[0.52773109]\n",
      " [0.54957983]\n",
      " [0.46722689]\n",
      " ...\n",
      " [0.38487395]\n",
      " [0.45546218]\n",
      " [0.41176471]] <class 'numpy.ndarray'> (6114, 1) 6114\n",
      "\n",
      "\n",
      "y_test [[0.28089888]\n",
      " [0.52247191]\n",
      " [0.66104869]\n",
      " ...\n",
      " [0.50749064]\n",
      " [0.29026217]\n",
      " [0.37827715]] <class 'numpy.ndarray'> (2039, 1) 2039\n"
     ]
    }
   ],
   "source": [
    "print(\"\\n\")\n",
    "print(\"X_train:\", X_train, type(X_train), X_train.shape, len(X_train)) #TrainX\n",
    "\n",
    "print(\"\\n\")\n",
    "print(\"X_test\", X_test, type(X_test), X_test.shape, len(X_test)) #TestX\n",
    "\n",
    "print(\"\\n\")\n",
    "print(\"y_train\", y_train, type(y_train), y_train.shape, len(y_train)) #Trainy\n",
    "\n",
    "print(\"\\n\")\n",
    "print(\"y_test\", y_test, type(y_test), y_test.shape, len(y_test)) #Testy"
   ]
  },
  {
   "cell_type": "code",
   "execution_count": 75,
   "metadata": {},
   "outputs": [],
   "source": [
    "rModel = linear_model.LinearRegression(normalize=True)"
   ]
  },
  {
   "cell_type": "code",
   "execution_count": 76,
   "metadata": {},
   "outputs": [
    {
     "data": {
      "text/plain": [
       "LinearRegression(normalize=True)"
      ]
     },
     "execution_count": 76,
     "metadata": {},
     "output_type": "execute_result"
    }
   ],
   "source": [
    "rModel.fit(X_train, y_train)"
   ]
  },
  {
   "cell_type": "code",
   "execution_count": 100,
   "metadata": {},
   "outputs": [
    {
     "name": "stdout",
     "output_type": "stream",
     "text": [
      "Test Mean Absolute Error: 0.49575613847216093\n",
      "Train Mean Absolute Error: 0.1416791273761677\n"
     ]
    }
   ],
   "source": [
    "y_predict_test = rModel.predict(X_test)\n",
    "MM_scaler.fit(y_predict_test)\n",
    "y_predict_test = MM_scaler.transform(y_predict_test)\n",
    "print(\"Test Mean Absolute Error:\",mean_absolute_error(y_test, y_predict_test))\n",
    "\n",
    "y_predict_training = rModel.predict(X_train)\n",
    "MM_scaler.fit(y_predict_training)\n",
    "y_predict_training = MM_scaler.transform(y_predict_training)\n",
    "print(\"Train Mean Absolute Error:\",mean_absolute_error(y_train, y_predict_training))"
   ]
  },
  {
   "cell_type": "code",
   "execution_count": 104,
   "metadata": {},
   "outputs": [
    {
     "name": "stdout",
     "output_type": "stream",
     "text": [
      "Test RSquared: -4.435014933527908e+21\n",
      "Training RSquared: -0.21802503876438428\n"
     ]
    }
   ],
   "source": [
    "y_predict_test = rModel.predict(X_test)\n",
    "MM_scaler.fit(y_predict_test)\n",
    "y_predict_test = MM_scaler.transform(y_predict_test)\n",
    "print(\"Test RSquared:\", rModel.score(X_test, y_predict_test))\n",
    "\n",
    "y_predict_training = rModel.predict(X_train)\n",
    "MM_scaler.fit(y_predict_training)\n",
    "y_predict_training = MM_scaler.transform(y_predict_training)\n",
    "print(\"Training RSquared:\", rModel.score(X_train, y_predict_training))"
   ]
  },
  {
   "cell_type": "code",
   "execution_count": null,
   "metadata": {},
   "outputs": [],
   "source": []
  },
  {
   "cell_type": "code",
   "execution_count": null,
   "metadata": {},
   "outputs": [],
   "source": []
  }
 ],
 "metadata": {
  "kernelspec": {
   "display_name": "Python 3",
   "language": "python",
   "name": "python3"
  },
  "language_info": {
   "codemirror_mode": {
    "name": "ipython",
    "version": 3
   },
   "file_extension": ".py",
   "mimetype": "text/x-python",
   "name": "python",
   "nbconvert_exporter": "python",
   "pygments_lexer": "ipython3",
   "version": "3.8.3"
  }
 },
 "nbformat": 4,
 "nbformat_minor": 4
}
