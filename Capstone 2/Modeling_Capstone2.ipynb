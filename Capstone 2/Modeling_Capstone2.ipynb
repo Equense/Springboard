{
 "cells": [
  {
   "cell_type": "markdown",
   "metadata": {},
   "source": [
    "# Capstone 2: Obesity in America\n",
    "## Modeling"
   ]
  },
  {
   "cell_type": "markdown",
   "metadata": {},
   "source": [
    "The goal of this step is to create a model that predicts the risk of obesity based on risk factors"
   ]
  },
  {
   "cell_type": "code",
   "execution_count": 45,
   "metadata": {},
   "outputs": [],
   "source": [
    "import pandas as pd\n",
    "from sklearn.linear_model import LinearRegression\n",
    "from sklearn.model_selection import train_test_split\n",
    "import statsmodels.api as sm\n",
    "from sklearn.metrics import r2_score, mean_absolute_error\n",
    "import matplotlib.pyplot as plt\n",
    "from sklearn.linear_model import Ridge, Lasso\n",
    "import seaborn as sns"
   ]
  },
  {
   "cell_type": "code",
   "execution_count": 3,
   "metadata": {},
   "outputs": [
    {
     "name": "stdout",
     "output_type": "stream",
     "text": [
      "/Users/erinquense/springboard/Capstone2Project/data\n"
     ]
    }
   ],
   "source": [
    "cd data"
   ]
  },
  {
   "cell_type": "code",
   "execution_count": 4,
   "metadata": {},
   "outputs": [],
   "source": [
    "df = pd.read_csv('df_for_model_fitting.csv', index_col=0)"
   ]
  },
  {
   "cell_type": "code",
   "execution_count": 5,
   "metadata": {},
   "outputs": [
    {
     "data": {
      "text/html": [
       "<div>\n",
       "<style scoped>\n",
       "    .dataframe tbody tr th:only-of-type {\n",
       "        vertical-align: middle;\n",
       "    }\n",
       "\n",
       "    .dataframe tbody tr th {\n",
       "        vertical-align: top;\n",
       "    }\n",
       "\n",
       "    .dataframe thead th {\n",
       "        text-align: right;\n",
       "    }\n",
       "</style>\n",
       "<table border=\"1\" class=\"dataframe\">\n",
       "  <thead>\n",
       "    <tr style=\"text-align: right;\">\n",
       "      <th></th>\n",
       "      <th>% who have obesity</th>\n",
       "      <th>18 - 24</th>\n",
       "      <th>25 - 34</th>\n",
       "      <th>35 - 44</th>\n",
       "      <th>45 - 54</th>\n",
       "      <th>55 - 64</th>\n",
       "      <th>65 or older</th>\n",
       "      <th>College graduate</th>\n",
       "      <th>High school graduate</th>\n",
       "      <th>Less than high school</th>\n",
       "      <th>...</th>\n",
       "      <th>mod_active__Medium</th>\n",
       "      <th>mod_active__No Data Reported</th>\n",
       "      <th>mod_active__Very High</th>\n",
       "      <th>mod_active__Very Low</th>\n",
       "      <th>fruit__High</th>\n",
       "      <th>fruit__Low</th>\n",
       "      <th>fruit__Medium</th>\n",
       "      <th>fruit__No Data Reported</th>\n",
       "      <th>fruit__Very High</th>\n",
       "      <th>fruit__Very Low</th>\n",
       "    </tr>\n",
       "  </thead>\n",
       "  <tbody>\n",
       "    <tr>\n",
       "      <th>0</th>\n",
       "      <td>19.8</td>\n",
       "      <td>1</td>\n",
       "      <td>0</td>\n",
       "      <td>0</td>\n",
       "      <td>0</td>\n",
       "      <td>0</td>\n",
       "      <td>0</td>\n",
       "      <td>0</td>\n",
       "      <td>0</td>\n",
       "      <td>0</td>\n",
       "      <td>...</td>\n",
       "      <td>0</td>\n",
       "      <td>0</td>\n",
       "      <td>1</td>\n",
       "      <td>0</td>\n",
       "      <td>0</td>\n",
       "      <td>0</td>\n",
       "      <td>0</td>\n",
       "      <td>0</td>\n",
       "      <td>1</td>\n",
       "      <td>0</td>\n",
       "    </tr>\n",
       "    <tr>\n",
       "      <th>1</th>\n",
       "      <td>23.5</td>\n",
       "      <td>0</td>\n",
       "      <td>1</td>\n",
       "      <td>0</td>\n",
       "      <td>0</td>\n",
       "      <td>0</td>\n",
       "      <td>0</td>\n",
       "      <td>0</td>\n",
       "      <td>0</td>\n",
       "      <td>0</td>\n",
       "      <td>...</td>\n",
       "      <td>0</td>\n",
       "      <td>0</td>\n",
       "      <td>1</td>\n",
       "      <td>0</td>\n",
       "      <td>1</td>\n",
       "      <td>0</td>\n",
       "      <td>0</td>\n",
       "      <td>0</td>\n",
       "      <td>0</td>\n",
       "      <td>0</td>\n",
       "    </tr>\n",
       "    <tr>\n",
       "      <th>2</th>\n",
       "      <td>29.5</td>\n",
       "      <td>0</td>\n",
       "      <td>0</td>\n",
       "      <td>1</td>\n",
       "      <td>0</td>\n",
       "      <td>0</td>\n",
       "      <td>0</td>\n",
       "      <td>0</td>\n",
       "      <td>0</td>\n",
       "      <td>0</td>\n",
       "      <td>...</td>\n",
       "      <td>0</td>\n",
       "      <td>0</td>\n",
       "      <td>0</td>\n",
       "      <td>0</td>\n",
       "      <td>1</td>\n",
       "      <td>0</td>\n",
       "      <td>0</td>\n",
       "      <td>0</td>\n",
       "      <td>0</td>\n",
       "      <td>0</td>\n",
       "    </tr>\n",
       "  </tbody>\n",
       "</table>\n",
       "<p>3 rows × 95 columns</p>\n",
       "</div>"
      ],
      "text/plain": [
       "   % who have obesity  18 - 24  25 - 34  35 - 44  45 - 54  55 - 64  \\\n",
       "0                19.8        1        0        0        0        0   \n",
       "1                23.5        0        1        0        0        0   \n",
       "2                29.5        0        0        1        0        0   \n",
       "\n",
       "   65 or older  College graduate  High school graduate  Less than high school  \\\n",
       "0            0                 0                     0                      0   \n",
       "1            0                 0                     0                      0   \n",
       "2            0                 0                     0                      0   \n",
       "\n",
       "   ...  mod_active__Medium  mod_active__No Data Reported  \\\n",
       "0  ...                   0                             0   \n",
       "1  ...                   0                             0   \n",
       "2  ...                   0                             0   \n",
       "\n",
       "   mod_active__Very High  mod_active__Very Low  fruit__High  fruit__Low  \\\n",
       "0                      1                     0            0           0   \n",
       "1                      1                     0            1           0   \n",
       "2                      0                     0            1           0   \n",
       "\n",
       "   fruit__Medium  fruit__No Data Reported  fruit__Very High  fruit__Very Low  \n",
       "0              0                        0                 1                0  \n",
       "1              0                        0                 0                0  \n",
       "2              0                        0                 0                0  \n",
       "\n",
       "[3 rows x 95 columns]"
      ]
     },
     "execution_count": 5,
     "metadata": {},
     "output_type": "execute_result"
    }
   ],
   "source": [
    "df.head(3)"
   ]
  },
  {
   "cell_type": "code",
   "execution_count": 6,
   "metadata": {},
   "outputs": [
    {
     "data": {
      "text/plain": [
       "(8153, 95)"
      ]
     },
     "execution_count": 6,
     "metadata": {},
     "output_type": "execute_result"
    }
   ],
   "source": [
    "df.shape"
   ]
  },
  {
   "cell_type": "markdown",
   "metadata": {},
   "source": [
    "### Train/Test Split"
   ]
  },
  {
   "cell_type": "code",
   "execution_count": 7,
   "metadata": {},
   "outputs": [],
   "source": [
    "X = df.drop(['% who have obesity'], axis=1).values    # features\n",
    "y = df['% who have obesity'].values                   # target variable\n",
    "\n",
    "X_train, X_test, y_train, y_test = train_test_split(X, y, test_size=0.25, random_state=123)"
   ]
  },
  {
   "cell_type": "code",
   "execution_count": 8,
   "metadata": {},
   "outputs": [],
   "source": [
    "y_train = y_train.reshape(-1, 1)\n",
    "y_test = y_test.reshape(-1, 1)"
   ]
  },
  {
   "cell_type": "code",
   "execution_count": 9,
   "metadata": {},
   "outputs": [
    {
     "name": "stdout",
     "output_type": "stream",
     "text": [
      "X_train:  <class 'numpy.ndarray'> (6114, 94)\n",
      "y_train:  <class 'numpy.ndarray'> (6114, 1)\n",
      "X_test:  <class 'numpy.ndarray'> (2039, 94)\n",
      "y_test:  <class 'numpy.ndarray'> (2039, 1)\n"
     ]
    }
   ],
   "source": [
    "print(\"X_train: \", type(X_train), X_train.shape)\n",
    "print(\"y_train: \", type(y_train), y_train.shape)\n",
    "print(\"X_test: \", type(X_test), X_test.shape)\n",
    "print(\"y_test: \", type(y_test), y_test.shape)"
   ]
  },
  {
   "cell_type": "markdown",
   "metadata": {},
   "source": [
    "### Model 1"
   ]
  },
  {
   "cell_type": "code",
   "execution_count": 10,
   "metadata": {},
   "outputs": [
    {
     "data": {
      "text/plain": [
       "LinearRegression()"
      ]
     },
     "execution_count": 10,
     "metadata": {},
     "output_type": "execute_result"
    }
   ],
   "source": [
    "Model1 = LinearRegression()\n",
    "Model1.fit(X_train, y_train)"
   ]
  },
  {
   "cell_type": "code",
   "execution_count": 11,
   "metadata": {},
   "outputs": [
    {
     "name": "stdout",
     "output_type": "stream",
     "text": [
      "R^2 Score for training set: 0.755079550098926\n",
      "R^2 Score for test set: 0.723661103666446\n"
     ]
    }
   ],
   "source": [
    "#Evaluate Model 1: R-squared\n",
    "print('R^2 Score for training set:', Model1.score(X_train, y_train))\n",
    "print('R^2 Score for test set:', Model1.score(X_test, y_test))"
   ]
  },
  {
   "cell_type": "code",
   "execution_count": 12,
   "metadata": {},
   "outputs": [],
   "source": [
    "# how do I get MAE for the training and test set?  I got it for the prediction below."
   ]
  },
  {
   "cell_type": "markdown",
   "metadata": {},
   "source": [
    "#### Make Predictions using Model 1"
   ]
  },
  {
   "cell_type": "code",
   "execution_count": 13,
   "metadata": {},
   "outputs": [],
   "source": [
    "# Use the model to make predictions about our test data\n",
    "y_pred1 = Model1.predict(X_test)"
   ]
  },
  {
   "cell_type": "code",
   "execution_count": 14,
   "metadata": {},
   "outputs": [
    {
     "name": "stdout",
     "output_type": "stream",
     "text": [
      "Mean Absolute Error for prediction is: 2.4691481791192516\n",
      "R^2 Score for prediction is: 0.723661103666446\n"
     ]
    }
   ],
   "source": [
    "print('Mean Absolute Error for prediction is:', mean_absolute_error(y_test, y_pred1))\n",
    "print('R^2 Score for prediction is:', r2_score(y_test, y_pred1))"
   ]
  },
  {
   "cell_type": "markdown",
   "metadata": {},
   "source": [
    "### Model 2: OLS"
   ]
  },
  {
   "cell_type": "code",
   "execution_count": 16,
   "metadata": {},
   "outputs": [],
   "source": [
    "X = df.drop(['% who have obesity'], axis=1).values    \n",
    "X = sm.add_constant(X)\n",
    "\n",
    "y = df['% who have obesity'].values "
   ]
  },
  {
   "cell_type": "code",
   "execution_count": 17,
   "metadata": {},
   "outputs": [],
   "source": [
    "X_train, X_test, y_train, y_test = train_test_split(X, y, test_size = 0.25, random_state = 123)\n",
    "y_train = y_train.reshape(-1, 1)\n",
    "y_test = y_test.reshape(-1, 1)"
   ]
  },
  {
   "cell_type": "code",
   "execution_count": 18,
   "metadata": {},
   "outputs": [],
   "source": [
    "# Create the model\n",
    "Model2 = sm.OLS(y_train, X_train)\n",
    "\n",
    "# Fit the model with fit() \n",
    "Model2_results = Model2.fit()"
   ]
  },
  {
   "cell_type": "code",
   "execution_count": 19,
   "metadata": {
    "collapsed": true,
    "jupyter": {
     "outputs_hidden": true
    }
   },
   "outputs": [
    {
     "data": {
      "text/html": [
       "<table class=\"simpletable\">\n",
       "<caption>OLS Regression Results</caption>\n",
       "<tr>\n",
       "  <th>Dep. Variable:</th>            <td>y</td>        <th>  R-squared:         </th> <td>   0.755</td> \n",
       "</tr>\n",
       "<tr>\n",
       "  <th>Model:</th>                   <td>OLS</td>       <th>  Adj. R-squared:    </th> <td>   0.751</td> \n",
       "</tr>\n",
       "<tr>\n",
       "  <th>Method:</th>             <td>Least Squares</td>  <th>  F-statistic:       </th> <td>   204.0</td> \n",
       "</tr>\n",
       "<tr>\n",
       "  <th>Date:</th>             <td>Tue, 04 Aug 2020</td> <th>  Prob (F-statistic):</th>  <td>  0.00</td>  \n",
       "</tr>\n",
       "<tr>\n",
       "  <th>Time:</th>                 <td>09:37:47</td>     <th>  Log-Likelihood:    </th> <td> -16195.</td> \n",
       "</tr>\n",
       "<tr>\n",
       "  <th>No. Observations:</th>      <td>  6114</td>      <th>  AIC:               </th> <td>3.257e+04</td>\n",
       "</tr>\n",
       "<tr>\n",
       "  <th>Df Residuals:</th>          <td>  6022</td>      <th>  BIC:               </th> <td>3.319e+04</td>\n",
       "</tr>\n",
       "<tr>\n",
       "  <th>Df Model:</th>              <td>    91</td>      <th>                     </th>     <td> </td>    \n",
       "</tr>\n",
       "<tr>\n",
       "  <th>Covariance Type:</th>      <td>nonrobust</td>    <th>                     </th>     <td> </td>    \n",
       "</tr>\n",
       "</table>\n",
       "<table class=\"simpletable\">\n",
       "<tr>\n",
       "    <td></td>       <th>coef</th>     <th>std err</th>      <th>t</th>      <th>P>|t|</th>  <th>[0.025</th>    <th>0.975]</th>  \n",
       "</tr>\n",
       "<tr>\n",
       "  <th>const</th> <td>   21.3298</td> <td>    0.630</td> <td>   33.854</td> <td> 0.000</td> <td>   20.095</td> <td>   22.565</td>\n",
       "</tr>\n",
       "<tr>\n",
       "  <th>x1</th>    <td>  -12.3323</td> <td>    0.323</td> <td>  -38.176</td> <td> 0.000</td> <td>  -12.966</td> <td>  -11.699</td>\n",
       "</tr>\n",
       "<tr>\n",
       "  <th>x2</th>    <td>   -1.4919</td> <td>    0.318</td> <td>   -4.686</td> <td> 0.000</td> <td>   -2.116</td> <td>   -0.868</td>\n",
       "</tr>\n",
       "<tr>\n",
       "  <th>x3</th>    <td>    3.8589</td> <td>    0.321</td> <td>   12.021</td> <td> 0.000</td> <td>    3.230</td> <td>    4.488</td>\n",
       "</tr>\n",
       "<tr>\n",
       "  <th>x4</th>    <td>    5.0758</td> <td>    0.313</td> <td>   16.226</td> <td> 0.000</td> <td>    4.463</td> <td>    5.689</td>\n",
       "</tr>\n",
       "<tr>\n",
       "  <th>x5</th>    <td>    5.1435</td> <td>    0.319</td> <td>   16.099</td> <td> 0.000</td> <td>    4.517</td> <td>    5.770</td>\n",
       "</tr>\n",
       "<tr>\n",
       "  <th>x6</th>    <td>   -1.8251</td> <td>    0.324</td> <td>   -5.640</td> <td> 0.000</td> <td>   -2.459</td> <td>   -1.191</td>\n",
       "</tr>\n",
       "<tr>\n",
       "  <th>x7</th>    <td>   -5.4373</td> <td>    0.325</td> <td>  -16.746</td> <td> 0.000</td> <td>   -6.074</td> <td>   -4.801</td>\n",
       "</tr>\n",
       "<tr>\n",
       "  <th>x8</th>    <td>    2.0912</td> <td>    0.318</td> <td>    6.583</td> <td> 0.000</td> <td>    1.468</td> <td>    2.714</td>\n",
       "</tr>\n",
       "<tr>\n",
       "  <th>x9</th>    <td>    3.9012</td> <td>    0.325</td> <td>   12.007</td> <td> 0.000</td> <td>    3.264</td> <td>    4.538</td>\n",
       "</tr>\n",
       "<tr>\n",
       "  <th>x10</th>   <td>    1.5660</td> <td>    0.318</td> <td>    4.917</td> <td> 0.000</td> <td>    0.942</td> <td>    2.190</td>\n",
       "</tr>\n",
       "<tr>\n",
       "  <th>x11</th>   <td>   -0.1187</td> <td>    0.321</td> <td>   -0.369</td> <td> 0.712</td> <td>   -0.749</td> <td>    0.511</td>\n",
       "</tr>\n",
       "<tr>\n",
       "  <th>x12</th>   <td>    0.1531</td> <td>    0.315</td> <td>    0.485</td> <td> 0.627</td> <td>   -0.465</td> <td>    0.772</td>\n",
       "</tr>\n",
       "<tr>\n",
       "  <th>x13</th>   <td>    3.2960</td> <td>    0.319</td> <td>   10.326</td> <td> 0.000</td> <td>    2.670</td> <td>    3.922</td>\n",
       "</tr>\n",
       "<tr>\n",
       "  <th>x14</th>   <td>    1.7611</td> <td>    0.319</td> <td>    5.515</td> <td> 0.000</td> <td>    1.135</td> <td>    2.387</td>\n",
       "</tr>\n",
       "<tr>\n",
       "  <th>x15</th>   <td>    1.7592</td> <td>    0.314</td> <td>    5.595</td> <td> 0.000</td> <td>    1.143</td> <td>    2.376</td>\n",
       "</tr>\n",
       "<tr>\n",
       "  <th>x16</th>   <td>    0.9846</td> <td>    0.320</td> <td>    3.081</td> <td> 0.002</td> <td>    0.358</td> <td>    1.611</td>\n",
       "</tr>\n",
       "<tr>\n",
       "  <th>x17</th>   <td>   -2.9220</td> <td>    0.327</td> <td>   -8.943</td> <td> 0.000</td> <td>   -3.563</td> <td>   -2.281</td>\n",
       "</tr>\n",
       "<tr>\n",
       "  <th>x18</th>   <td>   -4.4420</td> <td>    0.317</td> <td>  -14.026</td> <td> 0.000</td> <td>   -5.063</td> <td>   -3.821</td>\n",
       "</tr>\n",
       "<tr>\n",
       "  <th>x19</th>   <td>    4.8345</td> <td>    0.323</td> <td>   14.955</td> <td> 0.000</td> <td>    4.201</td> <td>    5.468</td>\n",
       "</tr>\n",
       "<tr>\n",
       "  <th>x20</th>   <td>    2.2582</td> <td>    0.326</td> <td>    6.917</td> <td> 0.000</td> <td>    1.618</td> <td>    2.898</td>\n",
       "</tr>\n",
       "<tr>\n",
       "  <th>x21</th>   <td>    6.7787</td> <td>    0.358</td> <td>   18.953</td> <td> 0.000</td> <td>    6.078</td> <td>    7.480</td>\n",
       "</tr>\n",
       "<tr>\n",
       "  <th>x22</th>   <td>  -18.2224</td> <td>    0.362</td> <td>  -50.379</td> <td> 0.000</td> <td>  -18.932</td> <td>  -17.513</td>\n",
       "</tr>\n",
       "<tr>\n",
       "  <th>x23</th>   <td>    9.3415</td> <td>    0.855</td> <td>   10.927</td> <td> 0.000</td> <td>    7.666</td> <td>   11.017</td>\n",
       "</tr>\n",
       "<tr>\n",
       "  <th>x24</th>   <td>    1.8437</td> <td>    0.326</td> <td>    5.650</td> <td> 0.000</td> <td>    1.204</td> <td>    2.483</td>\n",
       "</tr>\n",
       "<tr>\n",
       "  <th>x25</th>   <td>    7.9334</td> <td>    0.337</td> <td>   23.553</td> <td> 0.000</td> <td>    7.273</td> <td>    8.594</td>\n",
       "</tr>\n",
       "<tr>\n",
       "  <th>x26</th>   <td>   -1.5509</td> <td>    0.318</td> <td>   -4.879</td> <td> 0.000</td> <td>   -2.174</td> <td>   -0.928</td>\n",
       "</tr>\n",
       "<tr>\n",
       "  <th>x27</th>   <td>   -1.6179</td> <td>    0.431</td> <td>   -3.751</td> <td> 0.000</td> <td>   -2.464</td> <td>   -0.772</td>\n",
       "</tr>\n",
       "<tr>\n",
       "  <th>x28</th>   <td>    4.1800</td> <td>    0.321</td> <td>   13.028</td> <td> 0.000</td> <td>    3.551</td> <td>    4.809</td>\n",
       "</tr>\n",
       "<tr>\n",
       "  <th>x29</th>   <td>   -0.0289</td> <td>    0.331</td> <td>   -0.087</td> <td> 0.930</td> <td>   -0.677</td> <td>    0.619</td>\n",
       "</tr>\n",
       "<tr>\n",
       "  <th>x30</th>   <td>   -0.7525</td> <td>    0.311</td> <td>   -2.421</td> <td> 0.016</td> <td>   -1.362</td> <td>   -0.143</td>\n",
       "</tr>\n",
       "<tr>\n",
       "  <th>x31</th>   <td>    5.2732</td> <td>    0.321</td> <td>   16.433</td> <td> 0.000</td> <td>    4.644</td> <td>    5.902</td>\n",
       "</tr>\n",
       "<tr>\n",
       "  <th>x32</th>   <td>   -3.0472</td> <td>    0.308</td> <td>   -9.885</td> <td> 0.000</td> <td>   -3.652</td> <td>   -2.443</td>\n",
       "</tr>\n",
       "<tr>\n",
       "  <th>x33</th>   <td>   -6.5070</td> <td>    0.320</td> <td>  -20.305</td> <td> 0.000</td> <td>   -7.135</td> <td>   -5.879</td>\n",
       "</tr>\n",
       "<tr>\n",
       "  <th>x34</th>   <td>   -2.0143</td> <td>    0.310</td> <td>   -6.496</td> <td> 0.000</td> <td>   -2.622</td> <td>   -1.406</td>\n",
       "</tr>\n",
       "<tr>\n",
       "  <th>x35</th>   <td>    0.9266</td> <td>    0.323</td> <td>    2.870</td> <td> 0.004</td> <td>    0.294</td> <td>    1.560</td>\n",
       "</tr>\n",
       "<tr>\n",
       "  <th>x36</th>   <td>   -4.6357</td> <td>    0.319</td> <td>  -14.551</td> <td> 0.000</td> <td>   -5.260</td> <td>   -4.011</td>\n",
       "</tr>\n",
       "<tr>\n",
       "  <th>x37</th>   <td>   -2.4683</td> <td>    0.319</td> <td>   -7.746</td> <td> 0.000</td> <td>   -3.093</td> <td>   -1.844</td>\n",
       "</tr>\n",
       "<tr>\n",
       "  <th>x38</th>   <td>    0.5218</td> <td>    0.310</td> <td>    1.681</td> <td> 0.093</td> <td>   -0.087</td> <td>    1.130</td>\n",
       "</tr>\n",
       "<tr>\n",
       "  <th>x39</th>   <td>    0.5702</td> <td>    0.456</td> <td>    1.249</td> <td> 0.212</td> <td>   -0.325</td> <td>    1.465</td>\n",
       "</tr>\n",
       "<tr>\n",
       "  <th>x40</th>   <td>   -3.9510</td> <td>    0.318</td> <td>  -12.438</td> <td> 0.000</td> <td>   -4.574</td> <td>   -3.328</td>\n",
       "</tr>\n",
       "<tr>\n",
       "  <th>x41</th>   <td>   -0.1160</td> <td>    0.329</td> <td>   -0.353</td> <td> 0.724</td> <td>   -0.761</td> <td>    0.529</td>\n",
       "</tr>\n",
       "<tr>\n",
       "  <th>x42</th>   <td>    0.7605</td> <td>    0.308</td> <td>    2.471</td> <td> 0.013</td> <td>    0.157</td> <td>    1.364</td>\n",
       "</tr>\n",
       "<tr>\n",
       "  <th>x43</th>   <td>    3.2476</td> <td>    0.314</td> <td>   10.326</td> <td> 0.000</td> <td>    2.631</td> <td>    3.864</td>\n",
       "</tr>\n",
       "<tr>\n",
       "  <th>x44</th>   <td>    1.8023</td> <td>    0.335</td> <td>    5.380</td> <td> 0.000</td> <td>    1.146</td> <td>    2.459</td>\n",
       "</tr>\n",
       "<tr>\n",
       "  <th>x45</th>   <td>    2.5470</td> <td>    0.319</td> <td>    7.990</td> <td> 0.000</td> <td>    1.922</td> <td>    3.172</td>\n",
       "</tr>\n",
       "<tr>\n",
       "  <th>x46</th>   <td>    3.7289</td> <td>    0.312</td> <td>   11.936</td> <td> 0.000</td> <td>    3.117</td> <td>    4.341</td>\n",
       "</tr>\n",
       "<tr>\n",
       "  <th>x47</th>   <td>    4.9245</td> <td>    0.313</td> <td>   15.756</td> <td> 0.000</td> <td>    4.312</td> <td>    5.537</td>\n",
       "</tr>\n",
       "<tr>\n",
       "  <th>x48</th>   <td>    0.3683</td> <td>    0.336</td> <td>    1.097</td> <td> 0.273</td> <td>   -0.290</td> <td>    1.027</td>\n",
       "</tr>\n",
       "<tr>\n",
       "  <th>x49</th>   <td>    0.5168</td> <td>    0.315</td> <td>    1.641</td> <td> 0.101</td> <td>   -0.101</td> <td>    1.134</td>\n",
       "</tr>\n",
       "<tr>\n",
       "  <th>x50</th>   <td>   -3.5607</td> <td>    0.314</td> <td>  -11.347</td> <td> 0.000</td> <td>   -4.176</td> <td>   -2.946</td>\n",
       "</tr>\n",
       "<tr>\n",
       "  <th>x51</th>   <td>    2.7859</td> <td>    0.319</td> <td>    8.739</td> <td> 0.000</td> <td>    2.161</td> <td>    3.411</td>\n",
       "</tr>\n",
       "<tr>\n",
       "  <th>x52</th>   <td>   -1.4352</td> <td>    0.320</td> <td>   -4.479</td> <td> 0.000</td> <td>   -2.063</td> <td>   -0.807</td>\n",
       "</tr>\n",
       "<tr>\n",
       "  <th>x53</th>   <td>    5.9193</td> <td>    0.339</td> <td>   17.436</td> <td> 0.000</td> <td>    5.254</td> <td>    6.585</td>\n",
       "</tr>\n",
       "<tr>\n",
       "  <th>x54</th>   <td>    2.1677</td> <td>    0.326</td> <td>    6.649</td> <td> 0.000</td> <td>    1.529</td> <td>    2.807</td>\n",
       "</tr>\n",
       "<tr>\n",
       "  <th>x55</th>   <td>   -3.2585</td> <td>    0.330</td> <td>   -9.879</td> <td> 0.000</td> <td>   -3.905</td> <td>   -2.612</td>\n",
       "</tr>\n",
       "<tr>\n",
       "  <th>x56</th>   <td>   -0.2660</td> <td>    0.306</td> <td>   -0.870</td> <td> 0.384</td> <td>   -0.865</td> <td>    0.333</td>\n",
       "</tr>\n",
       "<tr>\n",
       "  <th>x57</th>   <td>    1.8460</td> <td>    0.324</td> <td>    5.697</td> <td> 0.000</td> <td>    1.211</td> <td>    2.481</td>\n",
       "</tr>\n",
       "<tr>\n",
       "  <th>x58</th>   <td>   -1.8581</td> <td>    0.309</td> <td>   -6.016</td> <td> 0.000</td> <td>   -2.464</td> <td>   -1.253</td>\n",
       "</tr>\n",
       "<tr>\n",
       "  <th>x59</th>   <td>   -1.1702</td> <td>    0.334</td> <td>   -3.501</td> <td> 0.000</td> <td>   -1.826</td> <td>   -0.515</td>\n",
       "</tr>\n",
       "<tr>\n",
       "  <th>x60</th>   <td>   -2.1072</td> <td>    0.319</td> <td>   -6.604</td> <td> 0.000</td> <td>   -2.733</td> <td>   -1.482</td>\n",
       "</tr>\n",
       "<tr>\n",
       "  <th>x61</th>   <td>   -1.2034</td> <td>    0.308</td> <td>   -3.902</td> <td> 0.000</td> <td>   -1.808</td> <td>   -0.599</td>\n",
       "</tr>\n",
       "<tr>\n",
       "  <th>x62</th>   <td>   -2.7635</td> <td>    0.329</td> <td>   -8.406</td> <td> 0.000</td> <td>   -3.408</td> <td>   -2.119</td>\n",
       "</tr>\n",
       "<tr>\n",
       "  <th>x63</th>   <td>    0.8767</td> <td>    0.324</td> <td>    2.704</td> <td> 0.007</td> <td>    0.241</td> <td>    1.512</td>\n",
       "</tr>\n",
       "<tr>\n",
       "  <th>x64</th>   <td>    2.3342</td> <td>    0.340</td> <td>    6.862</td> <td> 0.000</td> <td>    1.667</td> <td>    3.001</td>\n",
       "</tr>\n",
       "<tr>\n",
       "  <th>x65</th>   <td>    1.9725</td> <td>    0.319</td> <td>    6.187</td> <td> 0.000</td> <td>    1.348</td> <td>    2.598</td>\n",
       "</tr>\n",
       "<tr>\n",
       "  <th>x66</th>   <td>    3.1465</td> <td>    0.324</td> <td>    9.713</td> <td> 0.000</td> <td>    2.511</td> <td>    3.782</td>\n",
       "</tr>\n",
       "<tr>\n",
       "  <th>x67</th>   <td>    0.0899</td> <td>    0.344</td> <td>    0.262</td> <td> 0.794</td> <td>   -0.584</td> <td>    0.764</td>\n",
       "</tr>\n",
       "<tr>\n",
       "  <th>x68</th>   <td>    1.2456</td> <td>    0.324</td> <td>    3.850</td> <td> 0.000</td> <td>    0.611</td> <td>    1.880</td>\n",
       "</tr>\n",
       "<tr>\n",
       "  <th>x69</th>   <td>   -0.1699</td> <td>    0.425</td> <td>   -0.400</td> <td> 0.689</td> <td>   -1.003</td> <td>    0.663</td>\n",
       "</tr>\n",
       "<tr>\n",
       "  <th>x70</th>   <td>   -1.6834</td> <td>    0.334</td> <td>   -5.035</td> <td> 0.000</td> <td>   -2.339</td> <td>   -1.028</td>\n",
       "</tr>\n",
       "<tr>\n",
       "  <th>x71</th>   <td>    2.5394</td> <td>    0.306</td> <td>    8.295</td> <td> 0.000</td> <td>    1.939</td> <td>    3.140</td>\n",
       "</tr>\n",
       "<tr>\n",
       "  <th>x72</th>   <td>    1.0393</td> <td>    0.329</td> <td>    3.163</td> <td> 0.002</td> <td>    0.395</td> <td>    1.683</td>\n",
       "</tr>\n",
       "<tr>\n",
       "  <th>x73</th>   <td>    3.3030</td> <td>    0.336</td> <td>    9.844</td> <td> 0.000</td> <td>    2.645</td> <td>    3.961</td>\n",
       "</tr>\n",
       "<tr>\n",
       "  <th>x74</th>   <td>    2.4569</td> <td>    0.307</td> <td>    7.998</td> <td> 0.000</td> <td>    1.855</td> <td>    3.059</td>\n",
       "</tr>\n",
       "<tr>\n",
       "  <th>x75</th>   <td>   -3.1924</td> <td>    0.308</td> <td>  -10.382</td> <td> 0.000</td> <td>   -3.795</td> <td>   -2.590</td>\n",
       "</tr>\n",
       "<tr>\n",
       "  <th>x76</th>   <td>   -2.6218</td> <td>    0.352</td> <td>   -7.457</td> <td> 0.000</td> <td>   -3.311</td> <td>   -1.933</td>\n",
       "</tr>\n",
       "<tr>\n",
       "  <th>x77</th>   <td>    2.6715</td> <td>    0.801</td> <td>    3.336</td> <td> 0.001</td> <td>    1.102</td> <td>    4.241</td>\n",
       "</tr>\n",
       "<tr>\n",
       "  <th>x78</th>   <td>    0.3178</td> <td>    0.317</td> <td>    1.002</td> <td> 0.317</td> <td>   -0.304</td> <td>    0.940</td>\n",
       "</tr>\n",
       "<tr>\n",
       "  <th>x79</th>   <td>   -0.4941</td> <td>    0.321</td> <td>   -1.541</td> <td> 0.123</td> <td>   -1.123</td> <td>    0.134</td>\n",
       "</tr>\n",
       "<tr>\n",
       "  <th>x80</th>   <td>    5.7059</td> <td>    0.341</td> <td>   16.726</td> <td> 0.000</td> <td>    5.037</td> <td>    6.375</td>\n",
       "</tr>\n",
       "<tr>\n",
       "  <th>x81</th>   <td>    2.1247</td> <td>    0.324</td> <td>    6.565</td> <td> 0.000</td> <td>    1.490</td> <td>    2.759</td>\n",
       "</tr>\n",
       "<tr>\n",
       "  <th>x82</th>   <td>   -1.2756</td> <td>    0.324</td> <td>   -3.933</td> <td> 0.000</td> <td>   -1.912</td> <td>   -0.640</td>\n",
       "</tr>\n",
       "<tr>\n",
       "  <th>x83</th>   <td>    2.7259</td> <td>    0.556</td> <td>    4.904</td> <td> 0.000</td> <td>    1.636</td> <td>    3.816</td>\n",
       "</tr>\n",
       "<tr>\n",
       "  <th>x84</th>   <td>    3.0344</td> <td>    0.555</td> <td>    5.471</td> <td> 0.000</td> <td>    1.947</td> <td>    4.122</td>\n",
       "</tr>\n",
       "<tr>\n",
       "  <th>x85</th>   <td>    3.1339</td> <td>    0.554</td> <td>    5.658</td> <td> 0.000</td> <td>    2.048</td> <td>    4.220</td>\n",
       "</tr>\n",
       "<tr>\n",
       "  <th>x86</th>   <td>    3.4309</td> <td>    1.014</td> <td>    3.384</td> <td> 0.001</td> <td>    1.443</td> <td>    5.419</td>\n",
       "</tr>\n",
       "<tr>\n",
       "  <th>x87</th>   <td>    2.4435</td> <td>    0.562</td> <td>    4.350</td> <td> 0.000</td> <td>    1.342</td> <td>    3.545</td>\n",
       "</tr>\n",
       "<tr>\n",
       "  <th>x88</th>   <td>    6.5613</td> <td>    2.971</td> <td>    2.208</td> <td> 0.027</td> <td>    0.737</td> <td>   12.386</td>\n",
       "</tr>\n",
       "<tr>\n",
       "  <th>x89</th>   <td>    4.2096</td> <td>    0.555</td> <td>    7.581</td> <td> 0.000</td> <td>    3.121</td> <td>    5.298</td>\n",
       "</tr>\n",
       "<tr>\n",
       "  <th>x90</th>   <td>    3.2591</td> <td>    0.557</td> <td>    5.856</td> <td> 0.000</td> <td>    2.168</td> <td>    4.350</td>\n",
       "</tr>\n",
       "<tr>\n",
       "  <th>x91</th>   <td>    3.8055</td> <td>    0.555</td> <td>    6.862</td> <td> 0.000</td> <td>    2.718</td> <td>    4.893</td>\n",
       "</tr>\n",
       "<tr>\n",
       "  <th>x92</th>   <td>    3.7805</td> <td>    1.018</td> <td>    3.715</td> <td> 0.000</td> <td>    1.785</td> <td>    5.776</td>\n",
       "</tr>\n",
       "<tr>\n",
       "  <th>x93</th>   <td>    4.4552</td> <td>    0.561</td> <td>    7.942</td> <td> 0.000</td> <td>    3.355</td> <td>    5.555</td>\n",
       "</tr>\n",
       "<tr>\n",
       "  <th>x94</th>   <td>    1.8200</td> <td>    2.983</td> <td>    0.610</td> <td> 0.542</td> <td>   -4.027</td> <td>    7.667</td>\n",
       "</tr>\n",
       "</table>\n",
       "<table class=\"simpletable\">\n",
       "<tr>\n",
       "  <th>Omnibus:</th>       <td>783.783</td> <th>  Durbin-Watson:     </th> <td>   2.012</td>\n",
       "</tr>\n",
       "<tr>\n",
       "  <th>Prob(Omnibus):</th> <td> 0.000</td>  <th>  Jarque-Bera (JB):  </th> <td>8627.739</td>\n",
       "</tr>\n",
       "<tr>\n",
       "  <th>Skew:</th>          <td> 0.161</td>  <th>  Prob(JB):          </th> <td>    0.00</td>\n",
       "</tr>\n",
       "<tr>\n",
       "  <th>Kurtosis:</th>      <td> 8.811</td>  <th>  Cond. No.          </th> <td>3.04e+16</td>\n",
       "</tr>\n",
       "</table><br/><br/>Warnings:<br/>[1] Standard Errors assume that the covariance matrix of the errors is correctly specified.<br/>[2] The smallest eigenvalue is 1.2e-29. This might indicate that there are<br/>strong multicollinearity problems or that the design matrix is singular."
      ],
      "text/plain": [
       "<class 'statsmodels.iolib.summary.Summary'>\n",
       "\"\"\"\n",
       "                            OLS Regression Results                            \n",
       "==============================================================================\n",
       "Dep. Variable:                      y   R-squared:                       0.755\n",
       "Model:                            OLS   Adj. R-squared:                  0.751\n",
       "Method:                 Least Squares   F-statistic:                     204.0\n",
       "Date:                Tue, 04 Aug 2020   Prob (F-statistic):               0.00\n",
       "Time:                        09:37:47   Log-Likelihood:                -16195.\n",
       "No. Observations:                6114   AIC:                         3.257e+04\n",
       "Df Residuals:                    6022   BIC:                         3.319e+04\n",
       "Df Model:                          91                                         \n",
       "Covariance Type:            nonrobust                                         \n",
       "==============================================================================\n",
       "                 coef    std err          t      P>|t|      [0.025      0.975]\n",
       "------------------------------------------------------------------------------\n",
       "const         21.3298      0.630     33.854      0.000      20.095      22.565\n",
       "x1           -12.3323      0.323    -38.176      0.000     -12.966     -11.699\n",
       "x2            -1.4919      0.318     -4.686      0.000      -2.116      -0.868\n",
       "x3             3.8589      0.321     12.021      0.000       3.230       4.488\n",
       "x4             5.0758      0.313     16.226      0.000       4.463       5.689\n",
       "x5             5.1435      0.319     16.099      0.000       4.517       5.770\n",
       "x6            -1.8251      0.324     -5.640      0.000      -2.459      -1.191\n",
       "x7            -5.4373      0.325    -16.746      0.000      -6.074      -4.801\n",
       "x8             2.0912      0.318      6.583      0.000       1.468       2.714\n",
       "x9             3.9012      0.325     12.007      0.000       3.264       4.538\n",
       "x10            1.5660      0.318      4.917      0.000       0.942       2.190\n",
       "x11           -0.1187      0.321     -0.369      0.712      -0.749       0.511\n",
       "x12            0.1531      0.315      0.485      0.627      -0.465       0.772\n",
       "x13            3.2960      0.319     10.326      0.000       2.670       3.922\n",
       "x14            1.7611      0.319      5.515      0.000       1.135       2.387\n",
       "x15            1.7592      0.314      5.595      0.000       1.143       2.376\n",
       "x16            0.9846      0.320      3.081      0.002       0.358       1.611\n",
       "x17           -2.9220      0.327     -8.943      0.000      -3.563      -2.281\n",
       "x18           -4.4420      0.317    -14.026      0.000      -5.063      -3.821\n",
       "x19            4.8345      0.323     14.955      0.000       4.201       5.468\n",
       "x20            2.2582      0.326      6.917      0.000       1.618       2.898\n",
       "x21            6.7787      0.358     18.953      0.000       6.078       7.480\n",
       "x22          -18.2224      0.362    -50.379      0.000     -18.932     -17.513\n",
       "x23            9.3415      0.855     10.927      0.000       7.666      11.017\n",
       "x24            1.8437      0.326      5.650      0.000       1.204       2.483\n",
       "x25            7.9334      0.337     23.553      0.000       7.273       8.594\n",
       "x26           -1.5509      0.318     -4.879      0.000      -2.174      -0.928\n",
       "x27           -1.6179      0.431     -3.751      0.000      -2.464      -0.772\n",
       "x28            4.1800      0.321     13.028      0.000       3.551       4.809\n",
       "x29           -0.0289      0.331     -0.087      0.930      -0.677       0.619\n",
       "x30           -0.7525      0.311     -2.421      0.016      -1.362      -0.143\n",
       "x31            5.2732      0.321     16.433      0.000       4.644       5.902\n",
       "x32           -3.0472      0.308     -9.885      0.000      -3.652      -2.443\n",
       "x33           -6.5070      0.320    -20.305      0.000      -7.135      -5.879\n",
       "x34           -2.0143      0.310     -6.496      0.000      -2.622      -1.406\n",
       "x35            0.9266      0.323      2.870      0.004       0.294       1.560\n",
       "x36           -4.6357      0.319    -14.551      0.000      -5.260      -4.011\n",
       "x37           -2.4683      0.319     -7.746      0.000      -3.093      -1.844\n",
       "x38            0.5218      0.310      1.681      0.093      -0.087       1.130\n",
       "x39            0.5702      0.456      1.249      0.212      -0.325       1.465\n",
       "x40           -3.9510      0.318    -12.438      0.000      -4.574      -3.328\n",
       "x41           -0.1160      0.329     -0.353      0.724      -0.761       0.529\n",
       "x42            0.7605      0.308      2.471      0.013       0.157       1.364\n",
       "x43            3.2476      0.314     10.326      0.000       2.631       3.864\n",
       "x44            1.8023      0.335      5.380      0.000       1.146       2.459\n",
       "x45            2.5470      0.319      7.990      0.000       1.922       3.172\n",
       "x46            3.7289      0.312     11.936      0.000       3.117       4.341\n",
       "x47            4.9245      0.313     15.756      0.000       4.312       5.537\n",
       "x48            0.3683      0.336      1.097      0.273      -0.290       1.027\n",
       "x49            0.5168      0.315      1.641      0.101      -0.101       1.134\n",
       "x50           -3.5607      0.314    -11.347      0.000      -4.176      -2.946\n",
       "x51            2.7859      0.319      8.739      0.000       2.161       3.411\n",
       "x52           -1.4352      0.320     -4.479      0.000      -2.063      -0.807\n",
       "x53            5.9193      0.339     17.436      0.000       5.254       6.585\n",
       "x54            2.1677      0.326      6.649      0.000       1.529       2.807\n",
       "x55           -3.2585      0.330     -9.879      0.000      -3.905      -2.612\n",
       "x56           -0.2660      0.306     -0.870      0.384      -0.865       0.333\n",
       "x57            1.8460      0.324      5.697      0.000       1.211       2.481\n",
       "x58           -1.8581      0.309     -6.016      0.000      -2.464      -1.253\n",
       "x59           -1.1702      0.334     -3.501      0.000      -1.826      -0.515\n",
       "x60           -2.1072      0.319     -6.604      0.000      -2.733      -1.482\n",
       "x61           -1.2034      0.308     -3.902      0.000      -1.808      -0.599\n",
       "x62           -2.7635      0.329     -8.406      0.000      -3.408      -2.119\n",
       "x63            0.8767      0.324      2.704      0.007       0.241       1.512\n",
       "x64            2.3342      0.340      6.862      0.000       1.667       3.001\n",
       "x65            1.9725      0.319      6.187      0.000       1.348       2.598\n",
       "x66            3.1465      0.324      9.713      0.000       2.511       3.782\n",
       "x67            0.0899      0.344      0.262      0.794      -0.584       0.764\n",
       "x68            1.2456      0.324      3.850      0.000       0.611       1.880\n",
       "x69           -0.1699      0.425     -0.400      0.689      -1.003       0.663\n",
       "x70           -1.6834      0.334     -5.035      0.000      -2.339      -1.028\n",
       "x71            2.5394      0.306      8.295      0.000       1.939       3.140\n",
       "x72            1.0393      0.329      3.163      0.002       0.395       1.683\n",
       "x73            3.3030      0.336      9.844      0.000       2.645       3.961\n",
       "x74            2.4569      0.307      7.998      0.000       1.855       3.059\n",
       "x75           -3.1924      0.308    -10.382      0.000      -3.795      -2.590\n",
       "x76           -2.6218      0.352     -7.457      0.000      -3.311      -1.933\n",
       "x77            2.6715      0.801      3.336      0.001       1.102       4.241\n",
       "x78            0.3178      0.317      1.002      0.317      -0.304       0.940\n",
       "x79           -0.4941      0.321     -1.541      0.123      -1.123       0.134\n",
       "x80            5.7059      0.341     16.726      0.000       5.037       6.375\n",
       "x81            2.1247      0.324      6.565      0.000       1.490       2.759\n",
       "x82           -1.2756      0.324     -3.933      0.000      -1.912      -0.640\n",
       "x83            2.7259      0.556      4.904      0.000       1.636       3.816\n",
       "x84            3.0344      0.555      5.471      0.000       1.947       4.122\n",
       "x85            3.1339      0.554      5.658      0.000       2.048       4.220\n",
       "x86            3.4309      1.014      3.384      0.001       1.443       5.419\n",
       "x87            2.4435      0.562      4.350      0.000       1.342       3.545\n",
       "x88            6.5613      2.971      2.208      0.027       0.737      12.386\n",
       "x89            4.2096      0.555      7.581      0.000       3.121       5.298\n",
       "x90            3.2591      0.557      5.856      0.000       2.168       4.350\n",
       "x91            3.8055      0.555      6.862      0.000       2.718       4.893\n",
       "x92            3.7805      1.018      3.715      0.000       1.785       5.776\n",
       "x93            4.4552      0.561      7.942      0.000       3.355       5.555\n",
       "x94            1.8200      2.983      0.610      0.542      -4.027       7.667\n",
       "==============================================================================\n",
       "Omnibus:                      783.783   Durbin-Watson:                   2.012\n",
       "Prob(Omnibus):                  0.000   Jarque-Bera (JB):             8627.739\n",
       "Skew:                           0.161   Prob(JB):                         0.00\n",
       "Kurtosis:                       8.811   Cond. No.                     3.04e+16\n",
       "==============================================================================\n",
       "\n",
       "Warnings:\n",
       "[1] Standard Errors assume that the covariance matrix of the errors is correctly specified.\n",
       "[2] The smallest eigenvalue is 1.2e-29. This might indicate that there are\n",
       "strong multicollinearity problems or that the design matrix is singular.\n",
       "\"\"\""
      ]
     },
     "execution_count": 19,
     "metadata": {},
     "output_type": "execute_result"
    }
   ],
   "source": [
    "Model2_results.summary()"
   ]
  },
  {
   "cell_type": "markdown",
   "metadata": {},
   "source": [
    "### Model 3: Ridge Regression"
   ]
  },
  {
   "cell_type": "code",
   "execution_count": 24,
   "metadata": {},
   "outputs": [
    {
     "data": {
      "text/plain": [
       "Ridge()"
      ]
     },
     "execution_count": 24,
     "metadata": {},
     "output_type": "execute_result"
    }
   ],
   "source": [
    "rr = Ridge() \n",
    "rr.fit(X_train, y_train)"
   ]
  },
  {
   "cell_type": "code",
   "execution_count": 25,
   "metadata": {},
   "outputs": [
    {
     "data": {
      "text/plain": [
       "Ridge(alpha=100)"
      ]
     },
     "execution_count": 25,
     "metadata": {},
     "output_type": "execute_result"
    }
   ],
   "source": [
    "rr100 = Ridge(alpha=100) #  comparison with alpha value\n",
    "rr100.fit(X_train, y_train)"
   ]
  },
  {
   "cell_type": "code",
   "execution_count": 26,
   "metadata": {},
   "outputs": [
    {
     "name": "stdout",
     "output_type": "stream",
     "text": [
      "0.7550192646398681\n",
      "0.7235088427915919\n"
     ]
    }
   ],
   "source": [
    "print(rr.score(X_train,y_train))\n",
    "print(rr.score(X_test, y_test))"
   ]
  },
  {
   "cell_type": "code",
   "execution_count": 27,
   "metadata": {},
   "outputs": [
    {
     "name": "stdout",
     "output_type": "stream",
     "text": [
      "0.6570391082531795\n",
      "0.6281731504462505\n"
     ]
    }
   ],
   "source": [
    "print(rr100.score(X_train,y_train))\n",
    "print(rr100.score(X_test, y_test))"
   ]
  },
  {
   "cell_type": "code",
   "execution_count": 33,
   "metadata": {},
   "outputs": [],
   "source": [
    "y_pred3 = rr.predict(X_test)"
   ]
  },
  {
   "cell_type": "code",
   "execution_count": 35,
   "metadata": {},
   "outputs": [
    {
     "name": "stdout",
     "output_type": "stream",
     "text": [
      "Mean Absolute Error for prediction is: 2.471337615351915\n",
      "R^2 Score for prediction is: 0.7235088427915919\n"
     ]
    }
   ],
   "source": [
    "print('Mean Absolute Error for prediction is:', mean_absolute_error(y_test, y_pred3))\n",
    "print('R^2 Score for prediction is:', r2_score(y_test, y_pred3))"
   ]
  },
  {
   "cell_type": "markdown",
   "metadata": {},
   "source": [
    "### Model 4: Lasso Regression"
   ]
  },
  {
   "cell_type": "code",
   "execution_count": 31,
   "metadata": {},
   "outputs": [
    {
     "data": {
      "text/plain": [
       "Lasso(alpha=0.01)"
      ]
     },
     "execution_count": 31,
     "metadata": {},
     "output_type": "execute_result"
    }
   ],
   "source": [
    "lassr = Lasso(alpha=0.01)\n",
    "lassr.fit(X_train, y_train)"
   ]
  },
  {
   "cell_type": "code",
   "execution_count": 32,
   "metadata": {},
   "outputs": [
    {
     "name": "stdout",
     "output_type": "stream",
     "text": [
      "0.7455815618139383\n",
      "0.7150295915260441\n"
     ]
    }
   ],
   "source": [
    "print(lassr.score(X_train,y_train))\n",
    "print(lassr.score(X_test, y_test))"
   ]
  },
  {
   "cell_type": "code",
   "execution_count": 36,
   "metadata": {},
   "outputs": [],
   "source": [
    "y_pred4 = lassr.predict(X_test)"
   ]
  },
  {
   "cell_type": "code",
   "execution_count": 37,
   "metadata": {},
   "outputs": [
    {
     "name": "stdout",
     "output_type": "stream",
     "text": [
      "Mean Absolute Error for prediction is: 2.5546954027039988\n",
      "R^2 Score for prediction is: 0.7150295915260441\n"
     ]
    }
   ],
   "source": [
    "print('Mean Absolute Error for prediction is:', mean_absolute_error(y_test, y_pred4))\n",
    "print('R^2 Score for prediction is:', r2_score(y_test, y_pred4))"
   ]
  },
  {
   "cell_type": "markdown",
   "metadata": {},
   "source": [
    "### Visualization Model 1"
   ]
  },
  {
   "cell_type": "code",
   "execution_count": 48,
   "metadata": {},
   "outputs": [
    {
     "data": {
      "image/png": "[encoded data removed]",
      "text/plain": [
       "<Figure size 432x288 with 1 Axes>"
      ]
     },
     "metadata": {
      "needs_background": "light"
     },
     "output_type": "display_data"
    }
   ],
   "source": [
    "_ = plt.scatter(y_test,y_pred1)\n",
    "plt.xlabel('Actual % Obesity')\n",
    "plt.ylabel('Predicted Value for % Obesity')\n",
    "plt.title('How well predictions match results')\n",
    "plt.plot([x for x in range(0,40)],[x for x in range(0,40)], color='red')\n",
    "plt.show()"
   ]
  },
  {
   "cell_type": "code",
   "execution_count": 76,
   "metadata": {},
   "outputs": [
    {
     "data": {
      "image/png": "[encoded data removed]",
      "text/plain": [
       "<Figure size 432x288 with 1 Axes>"
      ]
     },
     "metadata": {
      "needs_background": "light"
     },
     "output_type": "display_data"
    }
   ],
   "source": [
    "sns.residplot(y_test, y_pred1, color='green')\n",
    "plt.xlabel('Actual % Obese')\n",
    "plt.ylabel('Residuals')\n",
    "plt.show()"
   ]
  },
  {
   "cell_type": "code",
   "execution_count": 77,
   "metadata": {},
   "outputs": [],
   "source": [
    "residual = (y_test-y_pred1)"
   ]
  },
  {
   "cell_type": "code",
   "execution_count": 78,
   "metadata": {},
   "outputs": [
    {
     "name": "stdout",
     "output_type": "stream",
     "text": [
      "3.7123034075173966 -3.575383518739774\n"
     ]
    }
   ],
   "source": [
    "std = residual.std()\n",
    "mean = residual.mean()\n",
    "max_ = mean + std\n",
    "min_ = mean - std\n",
    "print(max_, min_)"
   ]
  },
  {
   "cell_type": "code",
   "execution_count": 90,
   "metadata": {},
   "outputs": [
    {
     "data": {
      "image/png": "[encoded data removed]",
      "text/plain": [
       "<Figure size 432x288 with 1 Axes>"
      ]
     },
     "metadata": {
      "needs_background": "light"
     },
     "output_type": "display_data"
    }
   ],
   "source": [
    "_ = plt.hist(residual, bins=50)\n",
    "plt.axvline(min_, color='r')\n",
    "plt.axvline(max_, color='r')\n",
    "plt.text(5, 250, max_.round(decimals=2))\n",
    "plt.text(-8, 250, min_.round(decimals=2))\n",
    "plt.show()"
   ]
  },
  {
   "cell_type": "code",
   "execution_count": null,
   "metadata": {},
   "outputs": [],
   "source": []
  }
 ],
 "metadata": {
  "kernelspec": {
   "display_name": "Python 3",
   "language": "python",
   "name": "python3"
  },
  "language_info": {
   "codemirror_mode": {
    "name": "ipython",
    "version": 3
   },
   "file_extension": ".py",
   "mimetype": "text/x-python",
   "name": "python",
   "nbconvert_exporter": "python",
   "pygments_lexer": "ipython3",
   "version": "3.8.3"
  }
 },
 "nbformat": 4,
 "nbformat_minor": 4
}
