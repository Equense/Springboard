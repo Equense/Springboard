{
 "cells": [
  {
   "cell_type": "markdown",
   "metadata": {},
   "source": [
    "# Capstone 2: Obesity in America\n",
    "## Data Wrangling"
   ]
  },
  {
   "cell_type": "markdown",
   "metadata": {},
   "source": [
    "This step will focus on data wrangling, this includes collecting the data, organizing the data and the file structure for the rest of the project, defining, and cleaning up the data."
   ]
  },
  {
   "cell_type": "code",
   "execution_count": 1,
   "metadata": {},
   "outputs": [],
   "source": [
    "import pandas as pd\n",
    "import seaborn as sns\n",
    "import numpy as np\n",
    "import matplotlib.pyplot as plt\n",
    "%matplotlib inline"
   ]
  },
  {
   "cell_type": "markdown",
   "metadata": {},
   "source": [
    "#### Data Collection"
   ]
  },
  {
   "cell_type": "markdown",
   "metadata": {},
   "source": [
    "Checking that I am in the correct directory and change if need be. "
   ]
  },
  {
   "cell_type": "code",
   "execution_count": 3,
   "metadata": {},
   "outputs": [
    {
     "name": "stdout",
     "output_type": "stream",
     "text": [
      "/Users/erinquense/springboard/Capstone2Project\n"
     ]
    }
   ],
   "source": [
    "cd springboard/Capstone2Project/"
   ]
  },
  {
   "cell_type": "markdown",
   "metadata": {},
   "source": [
    "Import my dataset using read_csv and taking a look at the first 3 rows to get an idea of what the dataframe looks like. "
   ]
  },
  {
   "cell_type": "code",
   "execution_count": 4,
   "metadata": {},
   "outputs": [
    {
     "data": {
      "text/html": [
       "<div>\n",
       "<style scoped>\n",
       "    .dataframe tbody tr th:only-of-type {\n",
       "        vertical-align: middle;\n",
       "    }\n",
       "\n",
       "    .dataframe tbody tr th {\n",
       "        vertical-align: top;\n",
       "    }\n",
       "\n",
       "    .dataframe thead th {\n",
       "        text-align: right;\n",
       "    }\n",
       "</style>\n",
       "<table border=\"1\" class=\"dataframe\">\n",
       "  <thead>\n",
       "    <tr style=\"text-align: right;\">\n",
       "      <th></th>\n",
       "      <th>YearStart</th>\n",
       "      <th>YearEnd</th>\n",
       "      <th>LocationAbbr</th>\n",
       "      <th>LocationDesc</th>\n",
       "      <th>Datasource</th>\n",
       "      <th>Class</th>\n",
       "      <th>Topic</th>\n",
       "      <th>Question</th>\n",
       "      <th>Data_Value_Unit</th>\n",
       "      <th>Data_Value_Type</th>\n",
       "      <th>...</th>\n",
       "      <th>GeoLocation</th>\n",
       "      <th>ClassID</th>\n",
       "      <th>TopicID</th>\n",
       "      <th>QuestionID</th>\n",
       "      <th>DataValueTypeID</th>\n",
       "      <th>LocationID</th>\n",
       "      <th>StratificationCategory1</th>\n",
       "      <th>Stratification1</th>\n",
       "      <th>StratificationCategoryId1</th>\n",
       "      <th>StratificationID1</th>\n",
       "    </tr>\n",
       "  </thead>\n",
       "  <tbody>\n",
       "    <tr>\n",
       "      <th>0</th>\n",
       "      <td>2011</td>\n",
       "      <td>2011</td>\n",
       "      <td>AL</td>\n",
       "      <td>Alabama</td>\n",
       "      <td>Behavioral Risk Factor Surveillance System</td>\n",
       "      <td>Obesity / Weight Status</td>\n",
       "      <td>Obesity / Weight Status</td>\n",
       "      <td>Percent of adults aged 18 years and older who ...</td>\n",
       "      <td>NaN</td>\n",
       "      <td>Value</td>\n",
       "      <td>...</td>\n",
       "      <td>(32.84057112200048, -86.63186076199969)</td>\n",
       "      <td>OWS</td>\n",
       "      <td>OWS1</td>\n",
       "      <td>Q036</td>\n",
       "      <td>VALUE</td>\n",
       "      <td>1</td>\n",
       "      <td>Total</td>\n",
       "      <td>Total</td>\n",
       "      <td>OVR</td>\n",
       "      <td>OVERALL</td>\n",
       "    </tr>\n",
       "    <tr>\n",
       "      <th>1</th>\n",
       "      <td>2011</td>\n",
       "      <td>2011</td>\n",
       "      <td>AL</td>\n",
       "      <td>Alabama</td>\n",
       "      <td>Behavioral Risk Factor Surveillance System</td>\n",
       "      <td>Obesity / Weight Status</td>\n",
       "      <td>Obesity / Weight Status</td>\n",
       "      <td>Percent of adults aged 18 years and older who ...</td>\n",
       "      <td>NaN</td>\n",
       "      <td>Value</td>\n",
       "      <td>...</td>\n",
       "      <td>(32.84057112200048, -86.63186076199969)</td>\n",
       "      <td>OWS</td>\n",
       "      <td>OWS1</td>\n",
       "      <td>Q036</td>\n",
       "      <td>VALUE</td>\n",
       "      <td>1</td>\n",
       "      <td>Gender</td>\n",
       "      <td>Male</td>\n",
       "      <td>GEN</td>\n",
       "      <td>MALE</td>\n",
       "    </tr>\n",
       "    <tr>\n",
       "      <th>2</th>\n",
       "      <td>2011</td>\n",
       "      <td>2011</td>\n",
       "      <td>AL</td>\n",
       "      <td>Alabama</td>\n",
       "      <td>Behavioral Risk Factor Surveillance System</td>\n",
       "      <td>Obesity / Weight Status</td>\n",
       "      <td>Obesity / Weight Status</td>\n",
       "      <td>Percent of adults aged 18 years and older who ...</td>\n",
       "      <td>NaN</td>\n",
       "      <td>Value</td>\n",
       "      <td>...</td>\n",
       "      <td>(32.84057112200048, -86.63186076199969)</td>\n",
       "      <td>OWS</td>\n",
       "      <td>OWS1</td>\n",
       "      <td>Q036</td>\n",
       "      <td>VALUE</td>\n",
       "      <td>1</td>\n",
       "      <td>Gender</td>\n",
       "      <td>Female</td>\n",
       "      <td>GEN</td>\n",
       "      <td>FEMALE</td>\n",
       "    </tr>\n",
       "  </tbody>\n",
       "</table>\n",
       "<p>3 rows × 33 columns</p>\n",
       "</div>"
      ],
      "text/plain": [
       "   YearStart  YearEnd LocationAbbr LocationDesc  \\\n",
       "0       2011     2011           AL      Alabama   \n",
       "1       2011     2011           AL      Alabama   \n",
       "2       2011     2011           AL      Alabama   \n",
       "\n",
       "                                   Datasource                    Class  \\\n",
       "0  Behavioral Risk Factor Surveillance System  Obesity / Weight Status   \n",
       "1  Behavioral Risk Factor Surveillance System  Obesity / Weight Status   \n",
       "2  Behavioral Risk Factor Surveillance System  Obesity / Weight Status   \n",
       "\n",
       "                     Topic                                           Question  \\\n",
       "0  Obesity / Weight Status  Percent of adults aged 18 years and older who ...   \n",
       "1  Obesity / Weight Status  Percent of adults aged 18 years and older who ...   \n",
       "2  Obesity / Weight Status  Percent of adults aged 18 years and older who ...   \n",
       "\n",
       "   Data_Value_Unit Data_Value_Type  ...  \\\n",
       "0              NaN           Value  ...   \n",
       "1              NaN           Value  ...   \n",
       "2              NaN           Value  ...   \n",
       "\n",
       "                               GeoLocation  ClassID TopicID QuestionID  \\\n",
       "0  (32.84057112200048, -86.63186076199969)      OWS    OWS1       Q036   \n",
       "1  (32.84057112200048, -86.63186076199969)      OWS    OWS1       Q036   \n",
       "2  (32.84057112200048, -86.63186076199969)      OWS    OWS1       Q036   \n",
       "\n",
       "   DataValueTypeID  LocationID  StratificationCategory1 Stratification1  \\\n",
       "0            VALUE           1                    Total           Total   \n",
       "1            VALUE           1                   Gender            Male   \n",
       "2            VALUE           1                   Gender          Female   \n",
       "\n",
       "  StratificationCategoryId1 StratificationID1  \n",
       "0                       OVR           OVERALL  \n",
       "1                       GEN              MALE  \n",
       "2                       GEN            FEMALE  \n",
       "\n",
       "[3 rows x 33 columns]"
      ]
     },
     "execution_count": 4,
     "metadata": {},
     "output_type": "execute_result"
    }
   ],
   "source": [
    "df = pd.read_csv('Capstone_BRFSS_Obesity_CSV.csv')\n",
    "df.head(3)"
   ]
  },
  {
   "cell_type": "markdown",
   "metadata": {},
   "source": [
    "#### Data Organization"
   ]
  },
  {
   "cell_type": "markdown",
   "metadata": {},
   "source": [
    "Creating a file structure to store my data, figures and models I create.  "
   ]
  },
  {
   "cell_type": "code",
   "execution_count": 5,
   "metadata": {},
   "outputs": [
    {
     "name": "stdout",
     "output_type": "stream",
     "text": [
      "The current working directory is springboard/Capstone2Project\n"
     ]
    }
   ],
   "source": [
    "path = 'springboard/Capstone2Project'\n",
    "print (\"The current working directory is %s\" % path)"
   ]
  },
  {
   "cell_type": "code",
   "execution_count": 6,
   "metadata": {},
   "outputs": [
    {
     "name": "stdout",
     "output_type": "stream",
     "text": [
      "mkdir: data: File exists\n"
     ]
    }
   ],
   "source": [
    "mkdir data"
   ]
  },
  {
   "cell_type": "code",
   "execution_count": 7,
   "metadata": {},
   "outputs": [
    {
     "name": "stdout",
     "output_type": "stream",
     "text": [
      "mkdir: figures: File exists\n"
     ]
    }
   ],
   "source": [
    "mkdir figures"
   ]
  },
  {
   "cell_type": "code",
   "execution_count": 8,
   "metadata": {},
   "outputs": [
    {
     "name": "stdout",
     "output_type": "stream",
     "text": [
      "mkdir: models: File exists\n"
     ]
    }
   ],
   "source": [
    "mkdir models"
   ]
  },
  {
   "cell_type": "markdown",
   "metadata": {},
   "source": [
    "#### Data Definition"
   ]
  },
  {
   "cell_type": "markdown",
   "metadata": {},
   "source": [
    "At this point, I want to gain an understanding of what my data looks like, and what might need to happen to make it cleaner to work with later on. First, I am going to drop some columns I don't need.  \n",
    "-YearEnd is the same as YearStart, DataSource is the same for all observations, Data Footnote Symbol is unnecessary because we have the footnote itself, and we don't need to know confidence limits. We can also drop geolocation because we have LocationDesc to identify the state. "
   ]
  },
  {
   "cell_type": "code",
   "execution_count": 9,
   "metadata": {},
   "outputs": [],
   "source": [
    "df = df.drop(['GeoLocation', 'YearEnd', 'Datasource', 'Data_Value_Unit', 'Data_Value_Footnote_Symbol', 'Data_Value_Type', 'DataValueTypeID', 'Data_Value_Alt', 'Low_Confidence_Limit', 'High_Confidence_Limit '], axis=1)"
   ]
  },
  {
   "cell_type": "code",
   "execution_count": 12,
   "metadata": {},
   "outputs": [
    {
     "data": {
      "text/plain": [
       "array(['Percent of adults aged 18 years and older who have obesity',\n",
       "       'Percent of adults aged 18 years and older who have an overweight classification',\n",
       "       'Percent of adults who report consuming fruit less than one time daily',\n",
       "       'Percent of adults who report consuming vegetables less than one time daily',\n",
       "       'Percent of adults who engage in muscle-strengthening activities on 2 or more days a week',\n",
       "       'Percent of adults who achieve at least 150 minutes a week of moderate-intensity aerobic physical activity or 75 minutes a week of vigorous-intensity aerobic activity (or an equivalent combination)',\n",
       "       'Percent of adults who achieve at least 150 minutes a week of moderate-intensity aerobic physical activity or 75 minutes a week of vigorous-intensity aerobic physical activity and engage in muscle-strengthening activities on 2 or more days a week',\n",
       "       'Percent of adults who achieve at least 300 minutes a week of moderate-intensity aerobic physical activity or 150 minutes a week of vigorous-intensity aerobic activity (or an equivalent combination)',\n",
       "       'Percent of adults who engage in no leisure-time physical activity'],\n",
       "      dtype=object)"
      ]
     },
     "execution_count": 12,
     "metadata": {},
     "output_type": "execute_result"
    }
   ],
   "source": [
    "df['Question'].unique()"
   ]
  },
  {
   "cell_type": "markdown",
   "metadata": {},
   "source": [
    "Here I am going to pivot the table so that the 9 quesitons defined in the 'Question' columns become features and will be filled with the 'Data_Value'.  And then change their column names so they take up less space, but still describe what we need to know. "
   ]
  },
  {
   "cell_type": "code",
   "execution_count": 13,
   "metadata": {},
   "outputs": [],
   "source": [
    "no_pivot = ['YearStart', 'LocationAbbr', 'LocationDesc', 'LocationID',\n",
    "       'StratificationCategory1', 'Stratification1',\n",
    "       'StratificationCategoryId1', 'StratificationID1']\n",
    "df = pd.pivot_table(df, columns='Question', values='Data_Value', index=no_pivot).reset_index()"
   ]
  },
  {
   "cell_type": "code",
   "execution_count": 14,
   "metadata": {},
   "outputs": [],
   "source": [
    "df.rename(columns={'Percent of adults aged 18 years and older who have an overweight classification': 'overweight'}, inplace=True)"
   ]
  },
  {
   "cell_type": "code",
   "execution_count": 15,
   "metadata": {},
   "outputs": [],
   "source": [
    "df.rename(columns={'Percent of adults aged 18 years and older who have obesity': 'obese'}, inplace=True)"
   ]
  },
  {
   "cell_type": "code",
   "execution_count": 16,
   "metadata": {},
   "outputs": [],
   "source": [
    "df.rename(columns={'Percent of adults who achieve at least 150 minutes a week of moderate-intensity aerobic physical activity or 75 minutes a week of vigorous-intensity aerobic activity (or an equivalent combination)': 'some_activity'}, inplace=True)"
   ]
  },
  {
   "cell_type": "code",
   "execution_count": 17,
   "metadata": {},
   "outputs": [],
   "source": [
    "df.rename(columns={'Percent of adults who achieve at least 150 minutes a week of moderate-intensity aerobic physical activity or 75 minutes a week of vigorous-intensity aerobic physical activity and engage in muscle-strengthening activities on 2 or more days a week': 'some_and_muslce'}, inplace=True)"
   ]
  },
  {
   "cell_type": "code",
   "execution_count": 18,
   "metadata": {},
   "outputs": [],
   "source": [
    "df.rename(columns={'Percent of adults who achieve at least 300 minutes a week of moderate-intensity aerobic physical activity or 150 minutes a week of vigorous-intensity aerobic activity (or an equivalent combination)': 'more_activity'}, inplace=True)"
   ]
  },
  {
   "cell_type": "code",
   "execution_count": 19,
   "metadata": {},
   "outputs": [],
   "source": [
    "df.rename(columns={'Percent of adults who engage in muscle-strengthening activities on 2 or more days a week': 'Strength_training'}, inplace=True)"
   ]
  },
  {
   "cell_type": "code",
   "execution_count": 20,
   "metadata": {},
   "outputs": [],
   "source": [
    "df.rename(columns={'Percent of adults who engage in no leisure-time physical activity': 'no_physical_activity'}, inplace=True)"
   ]
  },
  {
   "cell_type": "code",
   "execution_count": 21,
   "metadata": {},
   "outputs": [],
   "source": [
    "df.rename(columns={'Percent of adults who report consuming fruit less than one time daily': 'fruit'}, inplace=True)"
   ]
  },
  {
   "cell_type": "code",
   "execution_count": 22,
   "metadata": {},
   "outputs": [],
   "source": [
    "df.rename(columns={'Percent of adults who report consuming vegetables less than one time daily': 'vegetables'}, inplace=True)"
   ]
  },
  {
   "cell_type": "code",
   "execution_count": 23,
   "metadata": {},
   "outputs": [
    {
     "data": {
      "text/html": [
       "<div>\n",
       "<style scoped>\n",
       "    .dataframe tbody tr th:only-of-type {\n",
       "        vertical-align: middle;\n",
       "    }\n",
       "\n",
       "    .dataframe tbody tr th {\n",
       "        vertical-align: top;\n",
       "    }\n",
       "\n",
       "    .dataframe thead th {\n",
       "        text-align: right;\n",
       "    }\n",
       "</style>\n",
       "<table border=\"1\" class=\"dataframe\">\n",
       "  <thead>\n",
       "    <tr style=\"text-align: right;\">\n",
       "      <th>Question</th>\n",
       "      <th>YearStart</th>\n",
       "      <th>LocationAbbr</th>\n",
       "      <th>LocationDesc</th>\n",
       "      <th>LocationID</th>\n",
       "      <th>StratificationCategory1</th>\n",
       "      <th>Stratification1</th>\n",
       "      <th>StratificationCategoryId1</th>\n",
       "      <th>StratificationID1</th>\n",
       "      <th>overweight</th>\n",
       "      <th>obese</th>\n",
       "      <th>some_activity</th>\n",
       "      <th>some_and_muslce</th>\n",
       "      <th>more_activity</th>\n",
       "      <th>Strength_training</th>\n",
       "      <th>no_physical_activity</th>\n",
       "      <th>fruit</th>\n",
       "      <th>vegetables</th>\n",
       "    </tr>\n",
       "  </thead>\n",
       "  <tbody>\n",
       "    <tr>\n",
       "      <th>0</th>\n",
       "      <td>2011</td>\n",
       "      <td>AK</td>\n",
       "      <td>Alaska</td>\n",
       "      <td>2</td>\n",
       "      <td>Age (years)</td>\n",
       "      <td>18 - 24</td>\n",
       "      <td>AGEYR</td>\n",
       "      <td>AGEYR1824</td>\n",
       "      <td>32.0</td>\n",
       "      <td>19.8</td>\n",
       "      <td>62.8</td>\n",
       "      <td>34.9</td>\n",
       "      <td>32.4</td>\n",
       "      <td>51.9</td>\n",
       "      <td>16.1</td>\n",
       "      <td>45.0</td>\n",
       "      <td>29.1</td>\n",
       "    </tr>\n",
       "    <tr>\n",
       "      <th>1</th>\n",
       "      <td>2011</td>\n",
       "      <td>AK</td>\n",
       "      <td>Alaska</td>\n",
       "      <td>2</td>\n",
       "      <td>Age (years)</td>\n",
       "      <td>25 - 34</td>\n",
       "      <td>AGEYR</td>\n",
       "      <td>AGEYR2534</td>\n",
       "      <td>38.7</td>\n",
       "      <td>23.5</td>\n",
       "      <td>57.6</td>\n",
       "      <td>27.0</td>\n",
       "      <td>35.7</td>\n",
       "      <td>36.4</td>\n",
       "      <td>18.1</td>\n",
       "      <td>43.6</td>\n",
       "      <td>18.8</td>\n",
       "    </tr>\n",
       "    <tr>\n",
       "      <th>2</th>\n",
       "      <td>2011</td>\n",
       "      <td>AK</td>\n",
       "      <td>Alaska</td>\n",
       "      <td>2</td>\n",
       "      <td>Age (years)</td>\n",
       "      <td>35 - 44</td>\n",
       "      <td>AGEYR</td>\n",
       "      <td>AGEYR3544</td>\n",
       "      <td>38.9</td>\n",
       "      <td>29.5</td>\n",
       "      <td>55.3</td>\n",
       "      <td>22.2</td>\n",
       "      <td>32.3</td>\n",
       "      <td>30.8</td>\n",
       "      <td>21.1</td>\n",
       "      <td>42.3</td>\n",
       "      <td>18.4</td>\n",
       "    </tr>\n",
       "    <tr>\n",
       "      <th>3</th>\n",
       "      <td>2011</td>\n",
       "      <td>AK</td>\n",
       "      <td>Alaska</td>\n",
       "      <td>2</td>\n",
       "      <td>Age (years)</td>\n",
       "      <td>45 - 54</td>\n",
       "      <td>AGEYR</td>\n",
       "      <td>AGEYR4554</td>\n",
       "      <td>43.3</td>\n",
       "      <td>29.2</td>\n",
       "      <td>56.2</td>\n",
       "      <td>25.2</td>\n",
       "      <td>38.8</td>\n",
       "      <td>32.4</td>\n",
       "      <td>24.7</td>\n",
       "      <td>35.8</td>\n",
       "      <td>17.0</td>\n",
       "    </tr>\n",
       "    <tr>\n",
       "      <th>4</th>\n",
       "      <td>2011</td>\n",
       "      <td>AK</td>\n",
       "      <td>Alaska</td>\n",
       "      <td>2</td>\n",
       "      <td>Age (years)</td>\n",
       "      <td>55 - 64</td>\n",
       "      <td>AGEYR</td>\n",
       "      <td>AGEYR5564</td>\n",
       "      <td>38.9</td>\n",
       "      <td>33.4</td>\n",
       "      <td>58.2</td>\n",
       "      <td>20.1</td>\n",
       "      <td>43.3</td>\n",
       "      <td>26.6</td>\n",
       "      <td>26.0</td>\n",
       "      <td>33.3</td>\n",
       "      <td>16.0</td>\n",
       "    </tr>\n",
       "    <tr>\n",
       "      <th>5</th>\n",
       "      <td>2011</td>\n",
       "      <td>AK</td>\n",
       "      <td>Alaska</td>\n",
       "      <td>2</td>\n",
       "      <td>Age (years)</td>\n",
       "      <td>65 or older</td>\n",
       "      <td>AGEYR</td>\n",
       "      <td>AGEYR65PLUS</td>\n",
       "      <td>40.9</td>\n",
       "      <td>29.3</td>\n",
       "      <td>58.9</td>\n",
       "      <td>19.8</td>\n",
       "      <td>46.6</td>\n",
       "      <td>24.2</td>\n",
       "      <td>27.4</td>\n",
       "      <td>28.8</td>\n",
       "      <td>22.0</td>\n",
       "    </tr>\n",
       "    <tr>\n",
       "      <th>6</th>\n",
       "      <td>2011</td>\n",
       "      <td>AK</td>\n",
       "      <td>Alaska</td>\n",
       "      <td>2</td>\n",
       "      <td>Education</td>\n",
       "      <td>College graduate</td>\n",
       "      <td>EDU</td>\n",
       "      <td>EDUCOGRAD</td>\n",
       "      <td>39.9</td>\n",
       "      <td>22.1</td>\n",
       "      <td>67.2</td>\n",
       "      <td>33.8</td>\n",
       "      <td>43.3</td>\n",
       "      <td>41.8</td>\n",
       "      <td>12.5</td>\n",
       "      <td>28.9</td>\n",
       "      <td>12.8</td>\n",
       "    </tr>\n",
       "    <tr>\n",
       "      <th>7</th>\n",
       "      <td>2011</td>\n",
       "      <td>AK</td>\n",
       "      <td>Alaska</td>\n",
       "      <td>2</td>\n",
       "      <td>Education</td>\n",
       "      <td>High school graduate</td>\n",
       "      <td>EDU</td>\n",
       "      <td>EDUHSGRAD</td>\n",
       "      <td>38.0</td>\n",
       "      <td>33.1</td>\n",
       "      <td>49.9</td>\n",
       "      <td>17.4</td>\n",
       "      <td>30.1</td>\n",
       "      <td>25.9</td>\n",
       "      <td>26.9</td>\n",
       "      <td>47.5</td>\n",
       "      <td>25.4</td>\n",
       "    </tr>\n",
       "  </tbody>\n",
       "</table>\n",
       "</div>"
      ],
      "text/plain": [
       "Question  YearStart LocationAbbr LocationDesc  LocationID  \\\n",
       "0              2011           AK       Alaska           2   \n",
       "1              2011           AK       Alaska           2   \n",
       "2              2011           AK       Alaska           2   \n",
       "3              2011           AK       Alaska           2   \n",
       "4              2011           AK       Alaska           2   \n",
       "5              2011           AK       Alaska           2   \n",
       "6              2011           AK       Alaska           2   \n",
       "7              2011           AK       Alaska           2   \n",
       "\n",
       "Question StratificationCategory1       Stratification1  \\\n",
       "0                    Age (years)               18 - 24   \n",
       "1                    Age (years)               25 - 34   \n",
       "2                    Age (years)               35 - 44   \n",
       "3                    Age (years)               45 - 54   \n",
       "4                    Age (years)               55 - 64   \n",
       "5                    Age (years)           65 or older   \n",
       "6                      Education      College graduate   \n",
       "7                      Education  High school graduate   \n",
       "\n",
       "Question StratificationCategoryId1 StratificationID1  overweight  obese  \\\n",
       "0                            AGEYR         AGEYR1824        32.0   19.8   \n",
       "1                            AGEYR         AGEYR2534        38.7   23.5   \n",
       "2                            AGEYR         AGEYR3544        38.9   29.5   \n",
       "3                            AGEYR         AGEYR4554        43.3   29.2   \n",
       "4                            AGEYR         AGEYR5564        38.9   33.4   \n",
       "5                            AGEYR       AGEYR65PLUS        40.9   29.3   \n",
       "6                              EDU         EDUCOGRAD        39.9   22.1   \n",
       "7                              EDU         EDUHSGRAD        38.0   33.1   \n",
       "\n",
       "Question  some_activity  some_and_muslce  more_activity  Strength_training  \\\n",
       "0                  62.8             34.9           32.4               51.9   \n",
       "1                  57.6             27.0           35.7               36.4   \n",
       "2                  55.3             22.2           32.3               30.8   \n",
       "3                  56.2             25.2           38.8               32.4   \n",
       "4                  58.2             20.1           43.3               26.6   \n",
       "5                  58.9             19.8           46.6               24.2   \n",
       "6                  67.2             33.8           43.3               41.8   \n",
       "7                  49.9             17.4           30.1               25.9   \n",
       "\n",
       "Question  no_physical_activity  fruit  vegetables  \n",
       "0                         16.1   45.0        29.1  \n",
       "1                         18.1   43.6        18.8  \n",
       "2                         21.1   42.3        18.4  \n",
       "3                         24.7   35.8        17.0  \n",
       "4                         26.0   33.3        16.0  \n",
       "5                         27.4   28.8        22.0  \n",
       "6                         12.5   28.9        12.8  \n",
       "7                         26.9   47.5        25.4  "
      ]
     },
     "execution_count": 23,
     "metadata": {},
     "output_type": "execute_result"
    }
   ],
   "source": [
    "df.head(8)"
   ]
  },
  {
   "cell_type": "code",
   "execution_count": 26,
   "metadata": {},
   "outputs": [
    {
     "data": {
      "text/plain": [
       "(8153, 17)"
      ]
     },
     "execution_count": 26,
     "metadata": {},
     "output_type": "execute_result"
    }
   ],
   "source": [
    "df.shape"
   ]
  },
  {
   "cell_type": "code",
   "execution_count": 37,
   "metadata": {},
   "outputs": [
    {
     "data": {
      "text/plain": [
       "array(['Age (years)', 'Education', 'Gender', 'Income', 'Race/Ethnicity',\n",
       "       'Total'], dtype=object)"
      ]
     },
     "execution_count": 37,
     "metadata": {},
     "output_type": "execute_result"
    }
   ],
   "source": [
    "df['StratificationCategory1'].unique()"
   ]
  },
  {
   "cell_type": "markdown",
   "metadata": {},
   "source": [
    "We also want each category in StratificationCategory1 to be a feature we can explore.  I am going to pull out each category into its own dataframe and then concat the dataframes together. "
   ]
  },
  {
   "cell_type": "code",
   "execution_count": 27,
   "metadata": {},
   "outputs": [],
   "source": [
    "df = df.drop(['StratificationCategoryId1', 'StratificationID1'], axis=1)"
   ]
  },
  {
   "cell_type": "code",
   "execution_count": 28,
   "metadata": {},
   "outputs": [],
   "source": [
    "df_age = df[df['StratificationCategory1']== 'Age (years)']\n",
    "df_age = df_age.drop('StratificationCategory1', axis=1)\n",
    "df_age.rename(columns={'Stratification1': 'Age'}, inplace=True)"
   ]
  },
  {
   "cell_type": "code",
   "execution_count": 29,
   "metadata": {},
   "outputs": [],
   "source": [
    "df_ed = df[df['StratificationCategory1']== 'Education']\n",
    "df_ed = df_ed.drop('StratificationCategory1', axis=1)\n",
    "df_ed.rename(columns={'Stratification1': 'Education'}, inplace=True)"
   ]
  },
  {
   "cell_type": "code",
   "execution_count": 30,
   "metadata": {},
   "outputs": [],
   "source": [
    "df_gen = df[df['StratificationCategory1']== 'Gender']\n",
    "df_gen = df_gen.drop('StratificationCategory1', axis=1)\n",
    "df_gen.rename(columns={'Stratification1': 'Gender'}, inplace=True)"
   ]
  },
  {
   "cell_type": "code",
   "execution_count": 31,
   "metadata": {},
   "outputs": [],
   "source": [
    "df_inc = df[df['StratificationCategory1']== 'Income']\n",
    "df_inc = df_inc.drop('StratificationCategory1', axis=1)\n",
    "df_inc.rename(columns={'Stratification1': 'Income'}, inplace=True)"
   ]
  },
  {
   "cell_type": "code",
   "execution_count": 32,
   "metadata": {},
   "outputs": [],
   "source": [
    "df_race = df[df['StratificationCategory1']== 'Race/Ethnicity']\n",
    "df_race = df_race.drop('StratificationCategory1', axis=1)\n",
    "df_race.rename(columns={'Stratification1': 'Race/Ethnicity'}, inplace=True)"
   ]
  },
  {
   "cell_type": "code",
   "execution_count": 33,
   "metadata": {},
   "outputs": [],
   "source": [
    "df_total = df[df['StratificationCategory1']== 'Total']\n",
    "df_total = df_total.drop('StratificationCategory1', axis=1)\n",
    "df_total.rename(columns={'Stratification1': 'Total'}, inplace=True)"
   ]
  },
  {
   "cell_type": "code",
   "execution_count": 34,
   "metadata": {},
   "outputs": [],
   "source": [
    "df_all = [df_age, df_ed, df_gen, df_inc, df_race, df_total]"
   ]
  },
  {
   "cell_type": "code",
   "execution_count": 35,
   "metadata": {},
   "outputs": [],
   "source": [
    "df = pd.concat(df_all)"
   ]
  },
  {
   "cell_type": "code",
   "execution_count": 36,
   "metadata": {},
   "outputs": [
    {
     "data": {
      "text/plain": [
       "(8153, 19)"
      ]
     },
     "execution_count": 36,
     "metadata": {},
     "output_type": "execute_result"
    }
   ],
   "source": [
    "df.shape"
   ]
  },
  {
   "cell_type": "code",
   "execution_count": 38,
   "metadata": {},
   "outputs": [
    {
     "data": {
      "text/html": [
       "<div>\n",
       "<style scoped>\n",
       "    .dataframe tbody tr th:only-of-type {\n",
       "        vertical-align: middle;\n",
       "    }\n",
       "\n",
       "    .dataframe tbody tr th {\n",
       "        vertical-align: top;\n",
       "    }\n",
       "\n",
       "    .dataframe thead th {\n",
       "        text-align: right;\n",
       "    }\n",
       "</style>\n",
       "<table border=\"1\" class=\"dataframe\">\n",
       "  <thead>\n",
       "    <tr style=\"text-align: right;\">\n",
       "      <th></th>\n",
       "      <th>YearStart</th>\n",
       "      <th>LocationAbbr</th>\n",
       "      <th>LocationDesc</th>\n",
       "      <th>LocationID</th>\n",
       "      <th>Age</th>\n",
       "      <th>overweight</th>\n",
       "      <th>obese</th>\n",
       "      <th>some_activity</th>\n",
       "      <th>some_and_muslce</th>\n",
       "      <th>more_activity</th>\n",
       "      <th>Strength_training</th>\n",
       "      <th>no_physical_activity</th>\n",
       "      <th>fruit</th>\n",
       "      <th>vegetables</th>\n",
       "      <th>Education</th>\n",
       "      <th>Gender</th>\n",
       "      <th>Income</th>\n",
       "      <th>Race/Ethnicity</th>\n",
       "      <th>Total</th>\n",
       "    </tr>\n",
       "  </thead>\n",
       "  <tbody>\n",
       "    <tr>\n",
       "      <th>0</th>\n",
       "      <td>2011</td>\n",
       "      <td>AK</td>\n",
       "      <td>Alaska</td>\n",
       "      <td>2</td>\n",
       "      <td>18 - 24</td>\n",
       "      <td>32.0</td>\n",
       "      <td>19.8</td>\n",
       "      <td>62.8</td>\n",
       "      <td>34.9</td>\n",
       "      <td>32.4</td>\n",
       "      <td>51.9</td>\n",
       "      <td>16.1</td>\n",
       "      <td>45.0</td>\n",
       "      <td>29.1</td>\n",
       "      <td>NaN</td>\n",
       "      <td>NaN</td>\n",
       "      <td>NaN</td>\n",
       "      <td>NaN</td>\n",
       "      <td>NaN</td>\n",
       "    </tr>\n",
       "    <tr>\n",
       "      <th>1</th>\n",
       "      <td>2011</td>\n",
       "      <td>AK</td>\n",
       "      <td>Alaska</td>\n",
       "      <td>2</td>\n",
       "      <td>25 - 34</td>\n",
       "      <td>38.7</td>\n",
       "      <td>23.5</td>\n",
       "      <td>57.6</td>\n",
       "      <td>27.0</td>\n",
       "      <td>35.7</td>\n",
       "      <td>36.4</td>\n",
       "      <td>18.1</td>\n",
       "      <td>43.6</td>\n",
       "      <td>18.8</td>\n",
       "      <td>NaN</td>\n",
       "      <td>NaN</td>\n",
       "      <td>NaN</td>\n",
       "      <td>NaN</td>\n",
       "      <td>NaN</td>\n",
       "    </tr>\n",
       "    <tr>\n",
       "      <th>2</th>\n",
       "      <td>2011</td>\n",
       "      <td>AK</td>\n",
       "      <td>Alaska</td>\n",
       "      <td>2</td>\n",
       "      <td>35 - 44</td>\n",
       "      <td>38.9</td>\n",
       "      <td>29.5</td>\n",
       "      <td>55.3</td>\n",
       "      <td>22.2</td>\n",
       "      <td>32.3</td>\n",
       "      <td>30.8</td>\n",
       "      <td>21.1</td>\n",
       "      <td>42.3</td>\n",
       "      <td>18.4</td>\n",
       "      <td>NaN</td>\n",
       "      <td>NaN</td>\n",
       "      <td>NaN</td>\n",
       "      <td>NaN</td>\n",
       "      <td>NaN</td>\n",
       "    </tr>\n",
       "    <tr>\n",
       "      <th>3</th>\n",
       "      <td>2011</td>\n",
       "      <td>AK</td>\n",
       "      <td>Alaska</td>\n",
       "      <td>2</td>\n",
       "      <td>45 - 54</td>\n",
       "      <td>43.3</td>\n",
       "      <td>29.2</td>\n",
       "      <td>56.2</td>\n",
       "      <td>25.2</td>\n",
       "      <td>38.8</td>\n",
       "      <td>32.4</td>\n",
       "      <td>24.7</td>\n",
       "      <td>35.8</td>\n",
       "      <td>17.0</td>\n",
       "      <td>NaN</td>\n",
       "      <td>NaN</td>\n",
       "      <td>NaN</td>\n",
       "      <td>NaN</td>\n",
       "      <td>NaN</td>\n",
       "    </tr>\n",
       "    <tr>\n",
       "      <th>4</th>\n",
       "      <td>2011</td>\n",
       "      <td>AK</td>\n",
       "      <td>Alaska</td>\n",
       "      <td>2</td>\n",
       "      <td>55 - 64</td>\n",
       "      <td>38.9</td>\n",
       "      <td>33.4</td>\n",
       "      <td>58.2</td>\n",
       "      <td>20.1</td>\n",
       "      <td>43.3</td>\n",
       "      <td>26.6</td>\n",
       "      <td>26.0</td>\n",
       "      <td>33.3</td>\n",
       "      <td>16.0</td>\n",
       "      <td>NaN</td>\n",
       "      <td>NaN</td>\n",
       "      <td>NaN</td>\n",
       "      <td>NaN</td>\n",
       "      <td>NaN</td>\n",
       "    </tr>\n",
       "    <tr>\n",
       "      <th>5</th>\n",
       "      <td>2011</td>\n",
       "      <td>AK</td>\n",
       "      <td>Alaska</td>\n",
       "      <td>2</td>\n",
       "      <td>65 or older</td>\n",
       "      <td>40.9</td>\n",
       "      <td>29.3</td>\n",
       "      <td>58.9</td>\n",
       "      <td>19.8</td>\n",
       "      <td>46.6</td>\n",
       "      <td>24.2</td>\n",
       "      <td>27.4</td>\n",
       "      <td>28.8</td>\n",
       "      <td>22.0</td>\n",
       "      <td>NaN</td>\n",
       "      <td>NaN</td>\n",
       "      <td>NaN</td>\n",
       "      <td>NaN</td>\n",
       "      <td>NaN</td>\n",
       "    </tr>\n",
       "    <tr>\n",
       "      <th>25</th>\n",
       "      <td>2011</td>\n",
       "      <td>AL</td>\n",
       "      <td>Alabama</td>\n",
       "      <td>1</td>\n",
       "      <td>18 - 24</td>\n",
       "      <td>27.1</td>\n",
       "      <td>16.3</td>\n",
       "      <td>49.4</td>\n",
       "      <td>27.2</td>\n",
       "      <td>25.8</td>\n",
       "      <td>41.6</td>\n",
       "      <td>22.5</td>\n",
       "      <td>45.0</td>\n",
       "      <td>31.4</td>\n",
       "      <td>NaN</td>\n",
       "      <td>NaN</td>\n",
       "      <td>NaN</td>\n",
       "      <td>NaN</td>\n",
       "      <td>NaN</td>\n",
       "    </tr>\n",
       "    <tr>\n",
       "      <th>26</th>\n",
       "      <td>2011</td>\n",
       "      <td>AL</td>\n",
       "      <td>Alabama</td>\n",
       "      <td>1</td>\n",
       "      <td>25 - 34</td>\n",
       "      <td>31.9</td>\n",
       "      <td>35.2</td>\n",
       "      <td>41.9</td>\n",
       "      <td>16.3</td>\n",
       "      <td>20.9</td>\n",
       "      <td>28.3</td>\n",
       "      <td>27.2</td>\n",
       "      <td>43.1</td>\n",
       "      <td>25.6</td>\n",
       "      <td>NaN</td>\n",
       "      <td>NaN</td>\n",
       "      <td>NaN</td>\n",
       "      <td>NaN</td>\n",
       "      <td>NaN</td>\n",
       "    </tr>\n",
       "    <tr>\n",
       "      <th>27</th>\n",
       "      <td>2011</td>\n",
       "      <td>AL</td>\n",
       "      <td>Alabama</td>\n",
       "      <td>1</td>\n",
       "      <td>35 - 44</td>\n",
       "      <td>33.3</td>\n",
       "      <td>35.5</td>\n",
       "      <td>41.8</td>\n",
       "      <td>17.0</td>\n",
       "      <td>22.8</td>\n",
       "      <td>28.3</td>\n",
       "      <td>29.8</td>\n",
       "      <td>50.1</td>\n",
       "      <td>23.8</td>\n",
       "      <td>NaN</td>\n",
       "      <td>NaN</td>\n",
       "      <td>NaN</td>\n",
       "      <td>NaN</td>\n",
       "      <td>NaN</td>\n",
       "    </tr>\n",
       "    <tr>\n",
       "      <th>28</th>\n",
       "      <td>2011</td>\n",
       "      <td>AL</td>\n",
       "      <td>Alabama</td>\n",
       "      <td>1</td>\n",
       "      <td>45 - 54</td>\n",
       "      <td>35.8</td>\n",
       "      <td>38.0</td>\n",
       "      <td>39.3</td>\n",
       "      <td>12.4</td>\n",
       "      <td>22.1</td>\n",
       "      <td>20.3</td>\n",
       "      <td>35.3</td>\n",
       "      <td>47.6</td>\n",
       "      <td>23.7</td>\n",
       "      <td>NaN</td>\n",
       "      <td>NaN</td>\n",
       "      <td>NaN</td>\n",
       "      <td>NaN</td>\n",
       "      <td>NaN</td>\n",
       "    </tr>\n",
       "  </tbody>\n",
       "</table>\n",
       "</div>"
      ],
      "text/plain": [
       "    YearStart LocationAbbr LocationDesc  LocationID          Age  overweight  \\\n",
       "0        2011           AK       Alaska           2      18 - 24        32.0   \n",
       "1        2011           AK       Alaska           2      25 - 34        38.7   \n",
       "2        2011           AK       Alaska           2      35 - 44        38.9   \n",
       "3        2011           AK       Alaska           2      45 - 54        43.3   \n",
       "4        2011           AK       Alaska           2      55 - 64        38.9   \n",
       "5        2011           AK       Alaska           2  65 or older        40.9   \n",
       "25       2011           AL      Alabama           1      18 - 24        27.1   \n",
       "26       2011           AL      Alabama           1      25 - 34        31.9   \n",
       "27       2011           AL      Alabama           1      35 - 44        33.3   \n",
       "28       2011           AL      Alabama           1      45 - 54        35.8   \n",
       "\n",
       "    obese  some_activity  some_and_muslce  more_activity  Strength_training  \\\n",
       "0    19.8           62.8             34.9           32.4               51.9   \n",
       "1    23.5           57.6             27.0           35.7               36.4   \n",
       "2    29.5           55.3             22.2           32.3               30.8   \n",
       "3    29.2           56.2             25.2           38.8               32.4   \n",
       "4    33.4           58.2             20.1           43.3               26.6   \n",
       "5    29.3           58.9             19.8           46.6               24.2   \n",
       "25   16.3           49.4             27.2           25.8               41.6   \n",
       "26   35.2           41.9             16.3           20.9               28.3   \n",
       "27   35.5           41.8             17.0           22.8               28.3   \n",
       "28   38.0           39.3             12.4           22.1               20.3   \n",
       "\n",
       "    no_physical_activity  fruit  vegetables Education Gender Income  \\\n",
       "0                   16.1   45.0        29.1       NaN    NaN    NaN   \n",
       "1                   18.1   43.6        18.8       NaN    NaN    NaN   \n",
       "2                   21.1   42.3        18.4       NaN    NaN    NaN   \n",
       "3                   24.7   35.8        17.0       NaN    NaN    NaN   \n",
       "4                   26.0   33.3        16.0       NaN    NaN    NaN   \n",
       "5                   27.4   28.8        22.0       NaN    NaN    NaN   \n",
       "25                  22.5   45.0        31.4       NaN    NaN    NaN   \n",
       "26                  27.2   43.1        25.6       NaN    NaN    NaN   \n",
       "27                  29.8   50.1        23.8       NaN    NaN    NaN   \n",
       "28                  35.3   47.6        23.7       NaN    NaN    NaN   \n",
       "\n",
       "   Race/Ethnicity Total  \n",
       "0             NaN   NaN  \n",
       "1             NaN   NaN  \n",
       "2             NaN   NaN  \n",
       "3             NaN   NaN  \n",
       "4             NaN   NaN  \n",
       "5             NaN   NaN  \n",
       "25            NaN   NaN  \n",
       "26            NaN   NaN  \n",
       "27            NaN   NaN  \n",
       "28            NaN   NaN  "
      ]
     },
     "execution_count": 38,
     "metadata": {},
     "output_type": "execute_result"
    }
   ],
   "source": [
    "df.head(10)"
   ]
  },
  {
   "cell_type": "markdown",
   "metadata": {},
   "source": [
    "We now have a dataframe which is organized by year and state and all features are columns. "
   ]
  },
  {
   "cell_type": "markdown",
   "metadata": {},
   "source": [
    "There are many NaN values in the categorical features (i.e. education, age, gender, etc.).  This is because each question was assessed as a separate instance for each categorical feature.  For now I will leave those and explore further in the next step, exploratory data analysis. "
   ]
  },
  {
   "cell_type": "code",
   "execution_count": 40,
   "metadata": {},
   "outputs": [
    {
     "data": {
      "text/html": [
       "<div>\n",
       "<style scoped>\n",
       "    .dataframe tbody tr th:only-of-type {\n",
       "        vertical-align: middle;\n",
       "    }\n",
       "\n",
       "    .dataframe tbody tr th {\n",
       "        vertical-align: top;\n",
       "    }\n",
       "\n",
       "    .dataframe thead th {\n",
       "        text-align: right;\n",
       "    }\n",
       "</style>\n",
       "<table border=\"1\" class=\"dataframe\">\n",
       "  <thead>\n",
       "    <tr style=\"text-align: right;\">\n",
       "      <th></th>\n",
       "      <th>count</th>\n",
       "      <th>mean</th>\n",
       "      <th>std</th>\n",
       "      <th>min</th>\n",
       "      <th>25%</th>\n",
       "      <th>50%</th>\n",
       "      <th>75%</th>\n",
       "      <th>max</th>\n",
       "    </tr>\n",
       "  </thead>\n",
       "  <tbody>\n",
       "    <tr>\n",
       "      <th>YearStart</th>\n",
       "      <td>8153.0</td>\n",
       "      <td>2013.526800</td>\n",
       "      <td>1.709682</td>\n",
       "      <td>2011.0</td>\n",
       "      <td>2012.0</td>\n",
       "      <td>2014.0</td>\n",
       "      <td>2015.00</td>\n",
       "      <td>2016.0</td>\n",
       "    </tr>\n",
       "    <tr>\n",
       "      <th>LocationID</th>\n",
       "      <td>8153.0</td>\n",
       "      <td>30.390040</td>\n",
       "      <td>17.037228</td>\n",
       "      <td>1.0</td>\n",
       "      <td>17.0</td>\n",
       "      <td>30.0</td>\n",
       "      <td>44.00</td>\n",
       "      <td>78.0</td>\n",
       "    </tr>\n",
       "    <tr>\n",
       "      <th>overweight</th>\n",
       "      <td>8127.0</td>\n",
       "      <td>34.926467</td>\n",
       "      <td>4.673879</td>\n",
       "      <td>10.1</td>\n",
       "      <td>32.4</td>\n",
       "      <td>35.4</td>\n",
       "      <td>37.90</td>\n",
       "      <td>58.3</td>\n",
       "    </tr>\n",
       "    <tr>\n",
       "      <th>obese</th>\n",
       "      <td>8127.0</td>\n",
       "      <td>28.929384</td>\n",
       "      <td>6.929260</td>\n",
       "      <td>0.9</td>\n",
       "      <td>25.4</td>\n",
       "      <td>29.4</td>\n",
       "      <td>33.25</td>\n",
       "      <td>60.4</td>\n",
       "    </tr>\n",
       "    <tr>\n",
       "      <th>some_activity</th>\n",
       "      <td>3994.0</td>\n",
       "      <td>50.202479</td>\n",
       "      <td>7.547899</td>\n",
       "      <td>24.0</td>\n",
       "      <td>45.2</td>\n",
       "      <td>50.3</td>\n",
       "      <td>55.30</td>\n",
       "      <td>77.6</td>\n",
       "    </tr>\n",
       "    <tr>\n",
       "      <th>some_and_muslce</th>\n",
       "      <td>3991.0</td>\n",
       "      <td>20.094287</td>\n",
       "      <td>5.643522</td>\n",
       "      <td>2.2</td>\n",
       "      <td>16.3</td>\n",
       "      <td>19.7</td>\n",
       "      <td>23.40</td>\n",
       "      <td>46.5</td>\n",
       "    </tr>\n",
       "    <tr>\n",
       "      <th>more_activity</th>\n",
       "      <td>3991.0</td>\n",
       "      <td>31.250388</td>\n",
       "      <td>6.088415</td>\n",
       "      <td>12.5</td>\n",
       "      <td>27.1</td>\n",
       "      <td>31.1</td>\n",
       "      <td>35.10</td>\n",
       "      <td>64.9</td>\n",
       "    </tr>\n",
       "    <tr>\n",
       "      <th>Strength_training</th>\n",
       "      <td>4003.0</td>\n",
       "      <td>29.640919</td>\n",
       "      <td>7.141949</td>\n",
       "      <td>3.3</td>\n",
       "      <td>24.9</td>\n",
       "      <td>29.2</td>\n",
       "      <td>33.80</td>\n",
       "      <td>61.0</td>\n",
       "    </tr>\n",
       "    <tr>\n",
       "      <th>no_physical_activity</th>\n",
       "      <td>8119.0</td>\n",
       "      <td>25.560488</td>\n",
       "      <td>8.053705</td>\n",
       "      <td>2.5</td>\n",
       "      <td>20.0</td>\n",
       "      <td>25.1</td>\n",
       "      <td>30.70</td>\n",
       "      <td>60.5</td>\n",
       "    </tr>\n",
       "    <tr>\n",
       "      <th>fruit</th>\n",
       "      <td>3998.0</td>\n",
       "      <td>40.174562</td>\n",
       "      <td>6.975817</td>\n",
       "      <td>9.6</td>\n",
       "      <td>35.4</td>\n",
       "      <td>40.0</td>\n",
       "      <td>44.90</td>\n",
       "      <td>63.0</td>\n",
       "    </tr>\n",
       "    <tr>\n",
       "      <th>vegetables</th>\n",
       "      <td>3996.0</td>\n",
       "      <td>23.804555</td>\n",
       "      <td>6.774396</td>\n",
       "      <td>3.6</td>\n",
       "      <td>19.2</td>\n",
       "      <td>23.1</td>\n",
       "      <td>27.90</td>\n",
       "      <td>50.8</td>\n",
       "    </tr>\n",
       "  </tbody>\n",
       "</table>\n",
       "</div>"
      ],
      "text/plain": [
       "                       count         mean        std     min     25%     50%  \\\n",
       "YearStart             8153.0  2013.526800   1.709682  2011.0  2012.0  2014.0   \n",
       "LocationID            8153.0    30.390040  17.037228     1.0    17.0    30.0   \n",
       "overweight            8127.0    34.926467   4.673879    10.1    32.4    35.4   \n",
       "obese                 8127.0    28.929384   6.929260     0.9    25.4    29.4   \n",
       "some_activity         3994.0    50.202479   7.547899    24.0    45.2    50.3   \n",
       "some_and_muslce       3991.0    20.094287   5.643522     2.2    16.3    19.7   \n",
       "more_activity         3991.0    31.250388   6.088415    12.5    27.1    31.1   \n",
       "Strength_training     4003.0    29.640919   7.141949     3.3    24.9    29.2   \n",
       "no_physical_activity  8119.0    25.560488   8.053705     2.5    20.0    25.1   \n",
       "fruit                 3998.0    40.174562   6.975817     9.6    35.4    40.0   \n",
       "vegetables            3996.0    23.804555   6.774396     3.6    19.2    23.1   \n",
       "\n",
       "                          75%     max  \n",
       "YearStart             2015.00  2016.0  \n",
       "LocationID              44.00    78.0  \n",
       "overweight              37.90    58.3  \n",
       "obese                   33.25    60.4  \n",
       "some_activity           55.30    77.6  \n",
       "some_and_muslce         23.40    46.5  \n",
       "more_activity           35.10    64.9  \n",
       "Strength_training       33.80    61.0  \n",
       "no_physical_activity    30.70    60.5  \n",
       "fruit                   44.90    63.0  \n",
       "vegetables              27.90    50.8  "
      ]
     },
     "execution_count": 40,
     "metadata": {},
     "output_type": "execute_result"
    }
   ],
   "source": [
    "df.describe().T"
   ]
  },
  {
   "cell_type": "markdown",
   "metadata": {},
   "source": [
    "### Data Cleaning"
   ]
  },
  {
   "cell_type": "markdown",
   "metadata": {},
   "source": [
    "Lets rename some of our columns so they are more descriptive of what they contain. "
   ]
  },
  {
   "cell_type": "code",
   "execution_count": 41,
   "metadata": {},
   "outputs": [],
   "source": [
    "df.rename(columns={'YearStart':'Year', 'LocationDesc':'Location'}, inplace=True)"
   ]
  },
  {
   "cell_type": "code",
   "execution_count": 43,
   "metadata": {},
   "outputs": [
    {
     "data": {
      "text/plain": [
       "array(['Alaska', 'Alabama', 'Arkansas', 'Arizona', 'California',\n",
       "       'Colorado', 'Connecticut', 'District of Columbia', 'Delaware',\n",
       "       'Florida', 'Georgia', 'Hawaii', 'Iowa', 'Idaho', 'Illinois',\n",
       "       'Indiana', 'Kansas', 'Kentucky', 'Louisiana', 'Massachusetts',\n",
       "       'Maryland', 'Maine', 'Michigan', 'Minnesota', 'Missouri',\n",
       "       'Mississippi', 'Montana', 'North Carolina', 'North Dakota',\n",
       "       'Nebraska', 'New Hampshire', 'New Jersey', 'New Mexico', 'Nevada',\n",
       "       'New York', 'Ohio', 'Oklahoma', 'Oregon', 'Pennsylvania',\n",
       "       'Rhode Island', 'South Carolina', 'South Dakota', 'Tennessee',\n",
       "       'Texas', 'National', 'Utah', 'Virginia', 'Vermont', 'Washington',\n",
       "       'Wisconsin', 'West Virginia', 'Wyoming', 'Puerto Rico', 'Guam',\n",
       "       'Virgin Islands'], dtype=object)"
      ]
     },
     "execution_count": 43,
     "metadata": {},
     "output_type": "execute_result"
    }
   ],
   "source": [
    "df['Location'].unique()"
   ]
  },
  {
   "cell_type": "code",
   "execution_count": 44,
   "metadata": {},
   "outputs": [
    {
     "data": {
      "text/html": [
       "<div>\n",
       "<style scoped>\n",
       "    .dataframe tbody tr th:only-of-type {\n",
       "        vertical-align: middle;\n",
       "    }\n",
       "\n",
       "    .dataframe tbody tr th {\n",
       "        vertical-align: top;\n",
       "    }\n",
       "\n",
       "    .dataframe thead th {\n",
       "        text-align: right;\n",
       "    }\n",
       "</style>\n",
       "<table border=\"1\" class=\"dataframe\">\n",
       "  <thead>\n",
       "    <tr style=\"text-align: right;\">\n",
       "      <th></th>\n",
       "      <th>Year</th>\n",
       "      <th>LocationAbbr</th>\n",
       "      <th>Location</th>\n",
       "      <th>LocationID</th>\n",
       "      <th>Age</th>\n",
       "      <th>overweight</th>\n",
       "      <th>obese</th>\n",
       "      <th>some_activity</th>\n",
       "      <th>some_and_muslce</th>\n",
       "      <th>more_activity</th>\n",
       "      <th>Strength_training</th>\n",
       "      <th>no_physical_activity</th>\n",
       "      <th>fruit</th>\n",
       "      <th>vegetables</th>\n",
       "      <th>Education</th>\n",
       "      <th>Gender</th>\n",
       "      <th>Income</th>\n",
       "      <th>Race/Ethnicity</th>\n",
       "      <th>Total</th>\n",
       "    </tr>\n",
       "  </thead>\n",
       "  <tbody>\n",
       "  </tbody>\n",
       "</table>\n",
       "</div>"
      ],
      "text/plain": [
       "Empty DataFrame\n",
       "Columns: [Year, LocationAbbr, Location, LocationID, Age, overweight, obese, some_activity, some_and_muslce, more_activity, Strength_training, no_physical_activity, fruit, vegetables, Education, Gender, Income, Race/Ethnicity, Total]\n",
       "Index: []"
      ]
     },
     "execution_count": 44,
     "metadata": {},
     "output_type": "execute_result"
    }
   ],
   "source": [
    "duplicateRowsDF = df[df.duplicated()]\n",
    "duplicateRowsDF"
   ]
  },
  {
   "cell_type": "markdown",
   "metadata": {},
   "source": [
    "At this point the data has been transformed and ready to start some exploratory data analysis in the next step.  The last thing to do is save my new, cleaned dataframe.  "
   ]
  },
  {
   "cell_type": "code",
   "execution_count": 46,
   "metadata": {},
   "outputs": [],
   "source": [
    "df.to_csv('df_wrangled.csv')"
   ]
  },
  {
   "cell_type": "markdown",
   "metadata": {},
   "source": []
  }
 ],
 "metadata": {
  "kernelspec": {
   "display_name": "Python 3",
   "language": "python",
   "name": "python3"
  },
  "language_info": {
   "codemirror_mode": {
    "name": "ipython",
    "version": 3
   },
   "file_extension": ".py",
   "mimetype": "text/x-python",
   "name": "python",
   "nbconvert_exporter": "python",
   "pygments_lexer": "ipython3",
   "version": "3.8.3"
  }
 },
 "nbformat": 4,
 "nbformat_minor": 4
}
